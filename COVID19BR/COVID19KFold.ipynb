{
 "cells": [
  {
   "cell_type": "code",
   "execution_count": 1,
   "id": "96b17b5f-e1ba-4a50-a0a0-304402b705f8",
   "metadata": {},
   "outputs": [],
   "source": [
    "import pandas as pd\n",
    "import numpy as np\n",
    "import nltk\n",
    "import re\n",
    "from nltk.corpus import stopwords\n",
    "from sklearn.feature_extraction import text\n",
    "from sklearn.feature_extraction.text import CountVectorizer, TfidfTransformer, TfidfVectorizer \n",
    "from sklearn.metrics import classification_report,confusion_matrix\n",
    "from sklearn.metrics import accuracy_score, f1_score, precision_score, recall_score\n",
    "from sklearn.svm import LinearSVC\n",
    "from sklearn.linear_model import LogisticRegression\n",
    "from sklearn.ensemble import GradientBoostingClassifier\n",
    "from sklearn import tree\n",
    "from sklearn.neural_network import MLPClassifier\n",
    "from sklearn.model_selection import KFold "
   ]
  },
  {
   "cell_type": "code",
   "execution_count": null,
   "id": "aec7420d-4baf-4e5c-9f18-4ed917e72ad2",
   "metadata": {},
   "outputs": [],
   "source": [
    "nltk.download('stopwords')"
   ]
  },
  {
   "cell_type": "code",
   "execution_count": 3,
   "id": "72606144-a767-4248-8d1c-7dac30d04560",
   "metadata": {},
   "outputs": [
    {
     "data": {
      "text/html": [
       "<div>\n",
       "<style scoped>\n",
       "    .dataframe tbody tr th:only-of-type {\n",
       "        vertical-align: middle;\n",
       "    }\n",
       "\n",
       "    .dataframe tbody tr th {\n",
       "        vertical-align: top;\n",
       "    }\n",
       "\n",
       "    .dataframe thead th {\n",
       "        text-align: right;\n",
       "    }\n",
       "</style>\n",
       "<table border=\"1\" class=\"dataframe\">\n",
       "  <thead>\n",
       "    <tr style=\"text-align: right;\">\n",
       "      <th></th>\n",
       "      <th>shares</th>\n",
       "      <th>text</th>\n",
       "      <th>misinformation</th>\n",
       "      <th>source</th>\n",
       "      <th>revision</th>\n",
       "    </tr>\n",
       "  </thead>\n",
       "  <tbody>\n",
       "    <tr>\n",
       "      <th>0</th>\n",
       "      <td>27</td>\n",
       "      <td>O ministro da Ciência, Tecnologia, Inovações e...</td>\n",
       "      <td>0</td>\n",
       "      <td>https://www.gov.br/pt-br/noticias/educacao-e-p...</td>\n",
       "      <td>NaN</td>\n",
       "    </tr>\n",
       "    <tr>\n",
       "      <th>1</th>\n",
       "      <td>26</td>\n",
       "      <td>Pesquisa com mais de 6.000 médicos em 30 paíse...</td>\n",
       "      <td>1</td>\n",
       "      <td>https://www.aosfatos.org/noticias/e-falso-que-...</td>\n",
       "      <td>NaN</td>\n",
       "    </tr>\n",
       "    <tr>\n",
       "      <th>2</th>\n",
       "      <td>25</td>\n",
       "      <td>É com muita alegria que comunico que mais um p...</td>\n",
       "      <td>0</td>\n",
       "      <td>http://portal.mec.gov.br/component/content/art...</td>\n",
       "      <td>NaN</td>\n",
       "    </tr>\n",
       "    <tr>\n",
       "      <th>3</th>\n",
       "      <td>25</td>\n",
       "      <td>Renda Brasil unificará vários programas sociai...</td>\n",
       "      <td>0</td>\n",
       "      <td>https://agenciabrasil.ebc.com.br/politica/noti...</td>\n",
       "      <td>NaN</td>\n",
       "    </tr>\n",
       "    <tr>\n",
       "      <th>4</th>\n",
       "      <td>24</td>\n",
       "      <td>O Secretário-Geral da OTAN Jens Stoltenberg ta...</td>\n",
       "      <td>0</td>\n",
       "      <td>NaN</td>\n",
       "      <td>1.0</td>\n",
       "    </tr>\n",
       "  </tbody>\n",
       "</table>\n",
       "</div>"
      ],
      "text/plain": [
       "   shares                                               text  misinformation  \\\n",
       "0      27  O ministro da Ciência, Tecnologia, Inovações e...               0   \n",
       "1      26  Pesquisa com mais de 6.000 médicos em 30 paíse...               1   \n",
       "2      25  É com muita alegria que comunico que mais um p...               0   \n",
       "3      25  Renda Brasil unificará vários programas sociai...               0   \n",
       "4      24  O Secretário-Geral da OTAN Jens Stoltenberg ta...               0   \n",
       "\n",
       "                                              source  revision  \n",
       "0  https://www.gov.br/pt-br/noticias/educacao-e-p...       NaN  \n",
       "1  https://www.aosfatos.org/noticias/e-falso-que-...       NaN  \n",
       "2  http://portal.mec.gov.br/component/content/art...       NaN  \n",
       "3  https://agenciabrasil.ebc.com.br/politica/noti...       NaN  \n",
       "4                                                NaN       1.0  "
      ]
     },
     "execution_count": 3,
     "metadata": {},
     "output_type": "execute_result"
    }
   ],
   "source": [
    "#Carregando o dataset COVID19BR\n",
    "\n",
    "dados = pd.read_csv('covidbr_labeled.csv')\n",
    "X = dados['text']\n",
    "y = dados['misinformation']\n",
    "dados.head()"
   ]
  },
  {
   "cell_type": "code",
   "execution_count": 4,
   "id": "ae0b2675-854b-45ee-8c66-f006b4547b0d",
   "metadata": {},
   "outputs": [],
   "source": [
    "stop_por = set(stopwords.words(\"portuguese\"))\n",
    "def limpa_texto(string):\n",
    "    text = string.lower().split()\n",
    "    text = \" \".join(text)\n",
    "    text = re.sub(r\"http(\\S)+\",' ',text)    \n",
    "    text = re.sub(r\"www(\\S)+\",' ',text)\n",
    "    text = re.sub(r\"&\",' and ',text)  \n",
    "    text = re.sub('&amp',' ', text)\n",
    "    text = re.sub(\" \\d+\", \" \", text)\n",
    "    text = re.sub(r'[^\\w\\s]', '', text)\n",
    "    text = text.split()\n",
    "    text = [w for w in text if not w in stop_por]\n",
    "    text = \" \".join(text)\n",
    "    return text"
   ]
  },
  {
   "cell_type": "code",
   "execution_count": 5,
   "id": "5fc65383-2cfc-45ed-b17e-fc4a5f6950d5",
   "metadata": {},
   "outputs": [],
   "source": [
    "X = X.map(lambda x: limpa_texto(x))"
   ]
  },
  {
   "cell_type": "code",
   "execution_count": 6,
   "id": "8c80a106-fb70-4768-b700-a58a3af548c7",
   "metadata": {},
   "outputs": [],
   "source": [
    "# CountVectorizer / TfidfTransformer Pode ser resumido nisto: \n",
    "tfidf_vectorizer=TfidfVectorizer(use_idf=True)\n",
    "#basta enviar todos os seus documentos aqui\n",
    "fitted_vectorizer=tfidf_vectorizer.fit(X)\n",
    "tfidf_vectorizer_vectors=fitted_vectorizer.transform(X)"
   ]
  },
  {
   "cell_type": "markdown",
   "id": "e6fa40f4-31a6-4032-ab29-a6851a85b1f5",
   "metadata": {},
   "source": [
    "# Testes com dataset COVID19BR - LinearSVC"
   ]
  },
  {
   "cell_type": "code",
   "execution_count": 7,
   "id": "f24ccff3-ae7b-450f-ab8a-d22453612d94",
   "metadata": {},
   "outputs": [
    {
     "name": "stdout",
     "output_type": "stream",
     "text": [
      "Matriz de confusão:\n",
      "[[374.2  23. ]\n",
      " [ 68.8 113.6]]\n",
      "Acurácia média: 0.8416085998451551\n",
      "Precisão média: 0.8672880266717173\n",
      "Recall médio  : 0.8416085998451551\n",
      "F1 médio      : 0.848250156886835\n"
     ]
    }
   ],
   "source": [
    "X_ = tfidf_vectorizer_vectors\n",
    "\n",
    "#Implementando a validação cruzada\n",
    " \n",
    "k = 5\n",
    "kf = KFold(n_splits=k, random_state=None)\n",
    "model = LinearSVC()\n",
    "\n",
    "#lista das matrizes de confusão de cada iteração \n",
    "lista_conf_matrix = []\n",
    "lista_acc_score = []\n",
    "lista_precision_score = []\n",
    "lista_recall_score = []\n",
    "lista_f1_score = []\n",
    " \n",
    "for train_index , test_index in kf.split(X):\n",
    "    X_train , X_test = X_[train_index],X_[test_index]\n",
    "    y_train , y_test = y[train_index],y[test_index]\n",
    "     \n",
    "    model.fit(X_train,y_train)\n",
    "    pred_values = model.predict(X_test)\n",
    "     \n",
    "    #print(confusion_matrix(y_test, pred_values))\n",
    "    conf_matrix = confusion_matrix(y_test, pred_values)\n",
    "    lista_conf_matrix.append(conf_matrix)\n",
    "    \n",
    "    acc = accuracy_score(pred_values, y_test)    \n",
    "    lista_acc_score.append(acc)\n",
    "\n",
    "    prec = precision_score(pred_values, y_test, average = 'weighted')\n",
    "    lista_precision_score.append(prec)\n",
    "    \n",
    "    recall = recall_score(pred_values, y_test, average = 'weighted')\n",
    "    lista_recall_score.append(recall)\n",
    "    \n",
    "    f1 = f1_score(pred_values, y_test, average = 'weighted')     \n",
    "    lista_f1_score.append(f1)\n",
    "    \n",
    "media_conf_matrix = np.mean(lista_conf_matrix, axis=0)\n",
    "media_acc_score = sum(lista_acc_score)/k\n",
    "media_prec_score = sum(lista_precision_score)/k\n",
    "media_recall_score = sum(lista_recall_score)/k\n",
    "media_f1_score = sum(lista_f1_score)/k\n",
    "\n",
    "print('Matriz de confusão:')\n",
    "print(media_conf_matrix)\n",
    "#print('Acurácia de cada iteração : {}'.format(acc_score))\n",
    "print('Acurácia média: {}'.format(media_acc_score))\n",
    "print('Precisão média: {}'.format(media_prec_score))\n",
    "print('Recall médio  : {}'.format(media_recall_score))\n",
    "print('F1 médio      : {}'.format(media_f1_score))     "
   ]
  },
  {
   "cell_type": "markdown",
   "id": "679695e5-5e1f-4cad-8946-c496eff1724e",
   "metadata": {},
   "source": [
    "# Testes com dataset COVID19BR - Regressão Logística"
   ]
  },
  {
   "cell_type": "code",
   "execution_count": 8,
   "id": "38126ff3-43e7-4a54-8f48-1d87ebc2f230",
   "metadata": {},
   "outputs": [
    {
     "name": "stdout",
     "output_type": "stream",
     "text": [
      "Matriz de confusão:\n",
      "[[386.   11.2]\n",
      " [ 99.6  82.8]]\n",
      "Acurácia média: 0.8088350902269074\n",
      "Precisão média: 0.8882775799415125\n",
      "Recall médio  : 0.8088350902269074\n",
      "F1 médio      : 0.828811982023665\n"
     ]
    }
   ],
   "source": [
    "X_ = tfidf_vectorizer_vectors\n",
    "\n",
    "#Implementando a validação cruzada\n",
    " \n",
    "k = 5\n",
    "kf = KFold(n_splits=k, random_state=None)\n",
    "model = LogisticRegression(solver= 'liblinear')\n",
    "\n",
    "#lista das matrizes de confusão de cada iteração \n",
    "lista_conf_matrix = []\n",
    "lista_acc_score = []\n",
    "lista_precision_score = []\n",
    "lista_recall_score = []\n",
    "lista_f1_score = []\n",
    " \n",
    "for train_index , test_index in kf.split(X):\n",
    "    X_train , X_test = X_[train_index],X_[test_index]\n",
    "    y_train , y_test = y[train_index],y[test_index]\n",
    "     \n",
    "    model.fit(X_train,y_train)\n",
    "    pred_values = model.predict(X_test)\n",
    "     \n",
    "    #print(confusion_matrix(y_test, pred_values))\n",
    "    conf_matrix = confusion_matrix(y_test, pred_values)\n",
    "    lista_conf_matrix.append(conf_matrix)\n",
    "    \n",
    "    acc = accuracy_score(pred_values, y_test)    \n",
    "    lista_acc_score.append(acc)\n",
    "\n",
    "    prec = precision_score(pred_values, y_test, average = 'weighted')\n",
    "    lista_precision_score.append(prec)\n",
    "    \n",
    "    recall = recall_score(pred_values, y_test, average = 'weighted')\n",
    "    lista_recall_score.append(recall)\n",
    "    \n",
    "    f1 = f1_score(pred_values, y_test, average = 'weighted')     \n",
    "    lista_f1_score.append(f1)\n",
    "    \n",
    "media_conf_matrix = np.mean(lista_conf_matrix, axis=0)\n",
    "media_acc_score = sum(lista_acc_score)/k\n",
    "media_prec_score = sum(lista_precision_score)/k\n",
    "media_recall_score = sum(lista_recall_score)/k\n",
    "media_f1_score = sum(lista_f1_score)/k\n",
    "\n",
    "print('Matriz de confusão:')\n",
    "print(media_conf_matrix)\n",
    "#print('Acurácia de cada iteração : {}'.format(acc_score))\n",
    "print('Acurácia média: {}'.format(media_acc_score))\n",
    "print('Precisão média: {}'.format(media_prec_score))\n",
    "print('Recall médio  : {}'.format(media_recall_score))\n",
    "print('F1 médio      : {}'.format(media_f1_score))     "
   ]
  },
  {
   "cell_type": "markdown",
   "id": "d2e6e8d3-d4a7-4261-a386-3e882c143afc",
   "metadata": {},
   "source": [
    "# Testes com dataset COVID19BR - GradientBoostingClassifier"
   ]
  },
  {
   "cell_type": "code",
   "execution_count": 9,
   "id": "74c64a80-5e72-4452-98d2-e9d0790771eb",
   "metadata": {
    "tags": []
   },
   "outputs": [
    {
     "name": "stdout",
     "output_type": "stream",
     "text": [
      "Matriz de confusão:\n",
      "[[375.2  22. ]\n",
      " [ 82.  100.4]]\n",
      "Acurácia média: 0.8205675659579537\n",
      "Precisão média: 0.8611503355827816\n",
      "Recall médio  : 0.8205675659579537\n",
      "F1 médio      : 0.8313613559504693\n"
     ]
    }
   ],
   "source": [
    "X_ = tfidf_vectorizer_vectors\n",
    "\n",
    "#Implementando a validação cruzada\n",
    " \n",
    "k = 5\n",
    "kf = KFold(n_splits=k, random_state=None)\n",
    "model = GradientBoostingClassifier()\n",
    "\n",
    "#lista das matrizes de confusão de cada iteração \n",
    "lista_conf_matrix = []\n",
    "lista_acc_score = []\n",
    "lista_precision_score = []\n",
    "lista_recall_score = []\n",
    "lista_f1_score = []\n",
    " \n",
    "for train_index , test_index in kf.split(X):\n",
    "    X_train , X_test = X_[train_index],X_[test_index]\n",
    "    y_train , y_test = y[train_index],y[test_index]\n",
    "     \n",
    "    model.fit(X_train,y_train)\n",
    "    pred_values = model.predict(X_test)\n",
    "     \n",
    "    #print(confusion_matrix(y_test, pred_values))\n",
    "    conf_matrix = confusion_matrix(y_test, pred_values)\n",
    "    lista_conf_matrix.append(conf_matrix)\n",
    "    \n",
    "    acc = accuracy_score(pred_values, y_test)    \n",
    "    lista_acc_score.append(acc)\n",
    "\n",
    "    prec = precision_score(pred_values, y_test, average = 'weighted')\n",
    "    lista_precision_score.append(prec)\n",
    "    \n",
    "    recall = recall_score(pred_values, y_test, average = 'weighted')\n",
    "    lista_recall_score.append(recall)\n",
    "    \n",
    "    f1 = f1_score(pred_values, y_test, average = 'weighted')     \n",
    "    lista_f1_score.append(f1)\n",
    "    \n",
    "media_conf_matrix = np.mean(lista_conf_matrix, axis=0)\n",
    "media_acc_score = sum(lista_acc_score)/k\n",
    "media_prec_score = sum(lista_precision_score)/k\n",
    "media_recall_score = sum(lista_recall_score)/k\n",
    "media_f1_score = sum(lista_f1_score)/k\n",
    "\n",
    "print('Matriz de confusão:')\n",
    "print(media_conf_matrix)\n",
    "#print('Acurácia de cada iteração : {}'.format(acc_score))\n",
    "print('Acurácia média: {}'.format(media_acc_score))\n",
    "print('Precisão média: {}'.format(media_prec_score))\n",
    "print('Recall médio  : {}'.format(media_recall_score))\n",
    "print('F1 médio      : {}'.format(media_f1_score))     "
   ]
  },
  {
   "cell_type": "markdown",
   "id": "fd9ca0b0-7fcd-496b-9c5f-eedbc9b788fd",
   "metadata": {},
   "source": [
    "# Testes com dataset COVID19BR - Árvore de decisão"
   ]
  },
  {
   "cell_type": "code",
   "execution_count": 10,
   "id": "99a2d575-bfde-4f91-acce-032ee8b82781",
   "metadata": {
    "tags": []
   },
   "outputs": [
    {
     "name": "stdout",
     "output_type": "stream",
     "text": [
      "Matriz de confusão:\n",
      "[[344.2  53. ]\n",
      " [ 67.4 115. ]]\n",
      "Acurácia média: 0.7922738371746769\n",
      "Precisão média: 0.7977454785443405\n",
      "Recall médio  : 0.7922738371746769\n",
      "F1 médio      : 0.7939070671298609\n"
     ]
    }
   ],
   "source": [
    "X_ = tfidf_vectorizer_vectors\n",
    "\n",
    "#Implementando a validação cruzada\n",
    " \n",
    "k = 5\n",
    "kf = KFold(n_splits=k, random_state=None)\n",
    "model = tree.DecisionTreeClassifier()\n",
    "\n",
    "#lista das matrizes de confusão de cada iteração \n",
    "lista_conf_matrix = []\n",
    "lista_acc_score = []\n",
    "lista_precision_score = []\n",
    "lista_recall_score = []\n",
    "lista_f1_score = []\n",
    " \n",
    "for train_index , test_index in kf.split(X):\n",
    "    X_train , X_test = X_[train_index],X_[test_index]\n",
    "    y_train , y_test = y[train_index],y[test_index]\n",
    "     \n",
    "    model.fit(X_train,y_train)\n",
    "    pred_values = model.predict(X_test)\n",
    "     \n",
    "    #print(confusion_matrix(y_test, pred_values))\n",
    "    conf_matrix = confusion_matrix(y_test, pred_values)\n",
    "    lista_conf_matrix.append(conf_matrix)\n",
    "    \n",
    "    acc = accuracy_score(pred_values, y_test)    \n",
    "    lista_acc_score.append(acc)\n",
    "\n",
    "    prec = precision_score(pred_values, y_test, average = 'weighted')\n",
    "    lista_precision_score.append(prec)\n",
    "    \n",
    "    recall = recall_score(pred_values, y_test, average = 'weighted')\n",
    "    lista_recall_score.append(recall)\n",
    "    \n",
    "    f1 = f1_score(pred_values, y_test, average = 'weighted')     \n",
    "    lista_f1_score.append(f1)\n",
    "    \n",
    "media_conf_matrix = np.mean(lista_conf_matrix, axis=0)\n",
    "media_acc_score = sum(lista_acc_score)/k\n",
    "media_prec_score = sum(lista_precision_score)/k\n",
    "media_recall_score = sum(lista_recall_score)/k\n",
    "media_f1_score = sum(lista_f1_score)/k\n",
    "\n",
    "print('Matriz de confusão:')\n",
    "print(media_conf_matrix)\n",
    "#print('Acurácia de cada iteração : {}'.format(acc_score))\n",
    "print('Acurácia média: {}'.format(media_acc_score))\n",
    "print('Precisão média: {}'.format(media_prec_score))\n",
    "print('Recall médio  : {}'.format(media_recall_score))\n",
    "print('F1 médio      : {}'.format(media_f1_score))     "
   ]
  },
  {
   "cell_type": "markdown",
   "id": "5c0c209b-5b9f-421b-adb9-a5b3242f65a0",
   "metadata": {},
   "source": [
    "# Testes com o dataset COVID19BR - Rede Neural MLP"
   ]
  },
  {
   "cell_type": "code",
   "execution_count": 11,
   "id": "38618c5a-af85-42d1-beec-f2c68721d304",
   "metadata": {
    "tags": []
   },
   "outputs": [
    {
     "name": "stdout",
     "output_type": "stream",
     "text": [
      "Matriz de confusão:\n",
      "[[364.2  33. ]\n",
      " [ 56.6 125.8]]\n",
      "Acurácia média: 0.8453999166219999\n",
      "Precisão média: 0.8559779125277496\n",
      "Recall médio  : 0.8453999166219999\n",
      "F1 médio      : 0.848161722211166\n"
     ]
    }
   ],
   "source": [
    "X_ = tfidf_vectorizer_vectors\n",
    "\n",
    "#Implementando a validação cruzada\n",
    " \n",
    "k = 5\n",
    "kf = KFold(n_splits=k, random_state=None)\n",
    "model = MLPClassifier()\n",
    "\n",
    "#lista das matrizes de confusão de cada iteração \n",
    "lista_conf_matrix = []\n",
    "lista_acc_score = []\n",
    "lista_precision_score = []\n",
    "lista_recall_score = []\n",
    "lista_f1_score = []\n",
    " \n",
    "for train_index , test_index in kf.split(X):\n",
    "    X_train , X_test = X_[train_index],X_[test_index]\n",
    "    y_train , y_test = y[train_index],y[test_index]\n",
    "     \n",
    "    model.fit(X_train,y_train)\n",
    "    pred_values = model.predict(X_test)\n",
    "     \n",
    "    #print(confusion_matrix(y_test, pred_values))\n",
    "    conf_matrix = confusion_matrix(y_test, pred_values)\n",
    "    lista_conf_matrix.append(conf_matrix)\n",
    "    \n",
    "    acc = accuracy_score(pred_values, y_test)    \n",
    "    lista_acc_score.append(acc)\n",
    "\n",
    "    prec = precision_score(pred_values, y_test, average = 'weighted')\n",
    "    lista_precision_score.append(prec)\n",
    "    \n",
    "    recall = recall_score(pred_values, y_test, average = 'weighted')\n",
    "    lista_recall_score.append(recall)\n",
    "    \n",
    "    f1 = f1_score(pred_values, y_test, average = 'weighted')     \n",
    "    lista_f1_score.append(f1)\n",
    "    \n",
    "media_conf_matrix = np.mean(lista_conf_matrix, axis=0)\n",
    "media_acc_score = sum(lista_acc_score)/k\n",
    "media_prec_score = sum(lista_precision_score)/k\n",
    "media_recall_score = sum(lista_recall_score)/k\n",
    "media_f1_score = sum(lista_f1_score)/k\n",
    "\n",
    "print('Matriz de confusão:')\n",
    "print(media_conf_matrix)\n",
    "#print('Acurácia de cada iteração : {}'.format(acc_score))\n",
    "print('Acurácia média: {}'.format(media_acc_score))\n",
    "print('Precisão média: {}'.format(media_prec_score))\n",
    "print('Recall médio  : {}'.format(media_recall_score))\n",
    "print('F1 médio      : {}'.format(media_f1_score))     "
   ]
  },
  {
   "cell_type": "markdown",
   "id": "77cfde45-ab79-433e-8a72-6af27d38d67f",
   "metadata": {
    "tags": []
   },
   "source": [
    "# Início do tutorial encontrado em:\n",
    "https://kavita-ganesan.com/tfidftransformer-tfidfvectorizer-usage-differences/#.Y1Ccl3bMJPY\n",
    "\n",
    "Idéia inicial do KFold: # https://www.askpython.com/python/examples/k-fold-cross-validation"
   ]
  },
  {
   "cell_type": "code",
   "execution_count": null,
   "id": "daaeab7b-b8c1-4ff5-b874-ac75fbd0c990",
   "metadata": {},
   "outputs": [],
   "source": [
    "#instancia CountVectorizer() \n",
    "cv=CountVectorizer() \n",
    "# estes passos geram \n",
    "# this steps generates word counts for the words in your docs \n",
    "word_count_vector=cv.fit_transform(X) # o X são as postagens do meu arquivo"
   ]
  },
  {
   "cell_type": "code",
   "execution_count": null,
   "id": "0aef0079-8999-4b1a-b324-a7cc0ce70228",
   "metadata": {
    "tags": []
   },
   "outputs": [],
   "source": [
    "word_count_vector.shape"
   ]
  },
  {
   "cell_type": "code",
   "execution_count": null,
   "id": "cb829f69-6884-47f8-a557-5bd62b8e6c68",
   "metadata": {
    "tags": []
   },
   "outputs": [],
   "source": [
    "tfidf_transformer=TfidfTransformer(smooth_idf=True,use_idf=True) \n",
    "tfidf_transformer.fit(word_count_vector)"
   ]
  },
  {
   "cell_type": "code",
   "execution_count": null,
   "id": "4ff89914-56c4-4e0b-a765-2f11099ac701",
   "metadata": {},
   "outputs": [],
   "source": [
    "# print idf values \n",
    "df_idf = pd.DataFrame(tfidf_transformer.idf_, index=cv.get_feature_names(),columns=[\"idf_weights\"]) \n",
    "# sort ascending \n",
    "df_idf.sort_values(by=['idf_weights'])"
   ]
  },
  {
   "cell_type": "code",
   "execution_count": null,
   "id": "849c99aa-0e86-440c-8174-02f479d5bbff",
   "metadata": {},
   "outputs": [],
   "source": [
    "# count matrix \n",
    "count_vector=cv.transform(X) \n",
    "# tf-idf scores \n",
    "tf_idf_vector=tfidf_transformer.transform(count_vector)"
   ]
  },
  {
   "cell_type": "code",
   "execution_count": null,
   "id": "f5744d71-c311-4f8c-a201-61e3641e1bf4",
   "metadata": {},
   "outputs": [],
   "source": [
    "feature_names = cv.get_feature_names() \n",
    "#get tfidf vector for first document \n",
    "first_document_vector=tf_idf_vector[0] \n",
    "#print the scores \n",
    "df = pd.DataFrame(first_document_vector.T.todense(), index=feature_names, columns=[\"tfidf\"]) \n",
    "df.sort_values(by=[\"tfidf\"],ascending=False)"
   ]
  },
  {
   "cell_type": "code",
   "execution_count": null,
   "id": "867f178a-986a-433d-8964-e17439bfa6ce",
   "metadata": {},
   "outputs": [],
   "source": [
    "#from sklearn.feature_extraction.text import TfidfVectorizer \n",
    "# settings that you use for count vectorizer will go here \n",
    "tfidf_vectorizer=TfidfVectorizer(use_idf=True) \n",
    "# just send in all your docs here \n",
    "tfidf_vectorizer_vectors=tfidf_vectorizer.fit_transform(X)"
   ]
  },
  {
   "cell_type": "code",
   "execution_count": null,
   "id": "616f62b7-ce7a-451d-92fd-fcb6557350aa",
   "metadata": {},
   "outputs": [],
   "source": [
    "# get the first vector out (for the first document) \n",
    "first_vector_tfidfvectorizer=tfidf_vectorizer_vectors[0] \n",
    "# place tf-idf values in a pandas data frame \n",
    "df = pd.DataFrame(first_vector_tfidfvectorizer.T.todense(), \n",
    "                  index=tfidf_vectorizer.get_feature_names(), \n",
    "                  columns=[\"tfidf\"])\n",
    "df.sort_values(by=[\"tfidf\"], ascending=False)"
   ]
  },
  {
   "cell_type": "code",
   "execution_count": null,
   "id": "f9b5b894-9bb2-4825-bacd-ead696641b4b",
   "metadata": {},
   "outputs": [],
   "source": [
    "#Pode ser resumido nisto: \n",
    "tfidf_vectorizer=TfidfVectorizer(use_idf=True)\n",
    "# just send in all your docs here\n",
    "fitted_vectorizer=tfidf_vectorizer.fit(X)\n",
    "tfidf_vectorizer_vectors=fitted_vectorizer.transform(X)"
   ]
  },
  {
   "cell_type": "markdown",
   "id": "bbea3daa-8dfd-44d2-96c3-2692946d0039",
   "metadata": {},
   "source": [
    "# Fim do tutorial"
   ]
  },
  {
   "cell_type": "code",
   "execution_count": null,
   "id": "329b3cb7-0b5b-4c9b-9e7e-974e5016c8d9",
   "metadata": {},
   "outputs": [],
   "source": [
    "#Verificando o resultado após a limpeza de texto\n",
    " \n",
    "contador = 0\n",
    "for i in X:\n",
    "    contador += 1\n",
    "    print(i)\n",
    "    if contador > 5:\n",
    "        break"
   ]
  },
  {
   "cell_type": "code",
   "execution_count": null,
   "id": "69106790-39d6-443d-bb0c-fa78a9ca9eb4",
   "metadata": {},
   "outputs": [],
   "source": [
    "#Verificando o resultado após a vetorização TF-IDF\n",
    " \n",
    "contador = 0\n",
    "for i in X_:\n",
    "    contador += 1\n",
    "    print(i)\n",
    "    if contador > 1:\n",
    "        break"
   ]
  }
 ],
 "metadata": {
  "kernelspec": {
   "display_name": "Python 3 (ipykernel)",
   "language": "python",
   "name": "python3"
  },
  "language_info": {
   "codemirror_mode": {
    "name": "ipython",
    "version": 3
   },
   "file_extension": ".py",
   "mimetype": "text/x-python",
   "name": "python",
   "nbconvert_exporter": "python",
   "pygments_lexer": "ipython3",
   "version": "3.9.7"
  }
 },
 "nbformat": 4,
 "nbformat_minor": 5
}
