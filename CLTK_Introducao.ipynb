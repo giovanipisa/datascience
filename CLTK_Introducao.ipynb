{
  "nbformat": 4,
  "nbformat_minor": 0,
  "metadata": {
    "colab": {
      "name": "Untitled0.ipynb",
      "provenance": [],
      "toc_visible": true,
      "authorship_tag": "ABX9TyO9MrsyIRN73hd0wTkY7G1F",
      "include_colab_link": true
    },
    "kernelspec": {
      "name": "python3",
      "display_name": "Python 3"
    },
    "language_info": {
      "name": "python"
    }
  },
  "cells": [
    {
      "cell_type": "markdown",
      "metadata": {
        "id": "view-in-github",
        "colab_type": "text"
      },
      "source": [
        "<a href=\"https://colab.research.google.com/github/giovanipisa/datascience/blob/master/CLTK_Introducao.ipynb\" target=\"_parent\"><img src=\"https://colab.research.google.com/assets/colab-badge.svg\" alt=\"Open In Colab\"/></a>"
      ]
    },
    {
      "cell_type": "code",
      "execution_count": 3,
      "metadata": {
        "colab": {
          "base_uri": "https://localhost:8080/"
        },
        "id": "mdhE5ksPPbBU",
        "outputId": "cad7ae11-fc9a-4647-ada7-c722a8c52771"
      },
      "outputs": [
        {
          "output_type": "stream",
          "name": "stdout",
          "text": [
            "  % Total    % Received % Xferd  Average Speed   Time    Time     Time  Current\n",
            "                                 Dload  Upload   Total   Spent    Left  Speed\n",
            "  0     0    0     0    0     0      0      0 --:--:-- --:--:-- --:--:--     0\n",
            "100  899k  100  899k    0     0  1196k      0 --:--:-- --:--:-- --:--:-- 2549k\n"
          ]
        }
      ],
      "source": [
        "# Get Latin text\n",
        "# https://gist.github.com/kylepjohnson/2f9376fcf15699c250a0d09b37683370\n",
        "# now at `notebooks/lat-livy.txt`\n",
        "!curl -O -L https://gist.github.com/kylepjohnson/2f9376fcf15699c250a0d09b37683370/raw/05b7a17af4b216a4986d897c57a9987e836cc91a/lat-livy.txt"
      ]
    },
    {
      "cell_type": "code",
      "source": [
        "# Get Ancient Greek text\n",
        "# https://gist.github.com/kylepjohnson/9835c36fb06ca30ebf29b7f2c7bd29e0\n",
        "# now at `notebooks/grc-thucydides.txt`\n",
        "!curl -O -L https://gist.github.com/kylepjohnson/9835c36fb06ca30ebf29b7f2c7bd29e0/raw/e08e47849f64484b0950b14563bb5a9fd1e1ef1c/grc-thucydides.txt"
      ],
      "metadata": {
        "colab": {
          "base_uri": "https://localhost:8080/"
        },
        "id": "alaqR4UdRtsy",
        "outputId": "b29be4c4-c102-4d44-d569-55dda03b177a"
      },
      "execution_count": 2,
      "outputs": [
        {
          "output_type": "stream",
          "name": "stdout",
          "text": [
            "  % Total    % Received % Xferd  Average Speed   Time    Time     Time  Current\n",
            "                                 Dload  Upload   Total   Spent    Left  Speed\n",
            "  0     0    0     0    0     0      0      0 --:--:-- --:--:-- --:--:--     0\n",
            "100  899k  100  899k    0     0  1426k      0 --:--:-- --:--:-- --:--:-- 1426k\n"
          ]
        }
      ]
    },
    {
      "cell_type": "code",
      "source": [
        "# read the Latin file\n",
        "# We'll run the full demonstration in the Latin language first\n",
        "with open(\"lat-livy.txt\") as fo:\n",
        "    livy_full = fo.read()"
      ],
      "metadata": {
        "id": "rfx4jMwCScuL"
      },
      "execution_count": 4,
      "outputs": []
    },
    {
      "cell_type": "code",
      "source": [
        "print(\"Text snippet:\", livy_full[:200])\n",
        "print(\"Character count:\", len(livy_full))\n",
        "print(\"Approximate token count:\", len(livy_full.split()))"
      ],
      "metadata": {
        "colab": {
          "base_uri": "https://localhost:8080/"
        },
        "id": "CS8323seTHnE",
        "outputId": "aaf5c635-3dd0-44f3-b21a-fb4d409c44e8"
      },
      "execution_count": 5,
      "outputs": [
        {
          "output_type": "stream",
          "name": "stdout",
          "text": [
            "Text snippet: Iam primum omnium satis constat Troia capta in ceteros saevitum esse Troianos, duobus, Aeneae Antenorique, et vetusti iure hospitii et quia pacis reddendaeque Helenae semper auctores fuerant, omne ius\n",
            "Character count: 920884\n",
            "Approximate token count: 129799\n"
          ]
        }
      ]
    }
  ]
}