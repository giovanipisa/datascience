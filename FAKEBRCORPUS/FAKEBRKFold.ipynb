{
 "cells": [
  {
   "cell_type": "code",
   "execution_count": 1,
   "id": "ee3de0c3-ab87-47ec-909d-c24313d0683a",
   "metadata": {},
   "outputs": [],
   "source": [
    "import pandas as pd\n",
    "import numpy as np\n",
    "import nltk\n",
    "import re\n",
    "from nltk.corpus import stopwords\n",
    "from sklearn.feature_extraction import text\n",
    "from sklearn.feature_extraction.text import CountVectorizer, TfidfTransformer, TfidfVectorizer \n",
    "from sklearn.metrics import classification_report,confusion_matrix\n",
    "from sklearn.metrics import accuracy_score, f1_score, precision_score, recall_score\n",
    "from sklearn.svm import LinearSVC\n",
    "from sklearn.linear_model import LogisticRegression\n",
    "from sklearn.ensemble import GradientBoostingClassifier\n",
    "from sklearn import tree\n",
    "from sklearn.neural_network import MLPClassifier\n",
    "from sklearn.pipeline import Pipeline\n",
    "from sklearn.model_selection import KFold "
   ]
  },
  {
   "cell_type": "code",
   "execution_count": null,
   "id": "3cd76b93-1161-4270-a256-e95df4ca6922",
   "metadata": {},
   "outputs": [],
   "source": [
    "nltk.download('stopwords')"
   ]
  },
  {
   "cell_type": "code",
   "execution_count": 3,
   "id": "78f18d8d-ea17-4ef9-9ebb-d45cb1e15473",
   "metadata": {},
   "outputs": [
    {
     "data": {
      "text/plain": [
       "0    Internauta filma homem flutuando entre raios. ...\n",
       "1    Nós cometemos erros, diz Mark Zuckerberg sobre...\n",
       "2    Brasileiro (que mora nos EUA) compara Miami co...\n",
       "3    Mídia internacional destaca o vidente Carlinho...\n",
       "4    FIOCRUZ alerta que vírus zika pode ser transmi...\n",
       "Name: text, dtype: object"
      ]
     },
     "execution_count": 3,
     "metadata": {},
     "output_type": "execute_result"
    }
   ],
   "source": [
    "#Carregando o dataset FAKEBR\n",
    "\n",
    "dados = pd.read_csv('dataset_shuffle.csv')\n",
    "X = dados['text']\n",
    "y = dados['fake_news']\n",
    "X.head()"
   ]
  },
  {
   "cell_type": "code",
   "execution_count": 4,
   "id": "3236e5c7-32c2-4172-9e4e-4359a32c28a8",
   "metadata": {},
   "outputs": [],
   "source": [
    "stop_por = set(stopwords.words(\"portuguese\"))\n",
    "def limpa_texto(string):\n",
    "    text = string.lower().split()\n",
    "    text = \" \".join(text)\n",
    "    text = re.sub(r\"http(\\S)+\",' ',text)    \n",
    "    text = re.sub(r\"www(\\S)+\",' ',text)\n",
    "    text = re.sub(r\"&\",' and ',text)  \n",
    "    text = re.sub('&amp',' ', text)\n",
    "    text = re.sub(\" \\d+\", \" \", text)\n",
    "    text = re.sub(r'[^\\w\\s]', '', text)\n",
    "    text = text.split()\n",
    "    text = [w for w in text if not w in stop_por]\n",
    "    text = \" \".join(text)\n",
    "    return text"
   ]
  },
  {
   "cell_type": "code",
   "execution_count": 5,
   "id": "300f217d-4080-4447-b412-20793913ba10",
   "metadata": {},
   "outputs": [],
   "source": [
    "X = X.map(lambda x: limpa_texto(x))"
   ]
  },
  {
   "cell_type": "code",
   "execution_count": 6,
   "id": "c36da616-c381-4cc6-87cc-da964ff7b77f",
   "metadata": {},
   "outputs": [],
   "source": [
    "# CountVectorizer / TfidfTransformer Pode ser resumido nisto: \n",
    "tfidf_vectorizer=TfidfVectorizer(use_idf=True)\n",
    "#basta enviar todos os seus documentos aqui\n",
    "fitted_vectorizer=tfidf_vectorizer.fit(X)\n",
    "tfidf_vectorizer_vectors=fitted_vectorizer.transform(X)"
   ]
  },
  {
   "cell_type": "markdown",
   "id": "50f4f828-ccd5-4f91-8864-616bcdf1dbe5",
   "metadata": {},
   "source": [
    "# Testes com dataset COVID19BR - LinearSVC"
   ]
  },
  {
   "cell_type": "code",
   "execution_count": 11,
   "id": "c9492041-a670-4f33-8267-db7745751cb5",
   "metadata": {},
   "outputs": [
    {
     "name": "stdout",
     "output_type": "stream",
     "text": [
      "Matriz de confusão:\n",
      "[[673.4  46.6]\n",
      " [ 25.6 694.4]]\n",
      "Acurácia média: 0.9498611111111112\n",
      "Precisão média: 0.9526289246683657\n",
      "Recall médio  : 0.9498611111111112\n",
      "F1 médio      : 0.9455733519664935\n"
     ]
    }
   ],
   "source": [
    "X_ = tfidf_vectorizer_vectors\n",
    "\n",
    "#Implementando a validação cruzada\n",
    " \n",
    "k = 5\n",
    "kf = KFold(n_splits=k, random_state=None)\n",
    "model = LinearSVC()\n",
    "\n",
    "#lista das matrizes de confusão de cada iteração \n",
    "lista_conf_matrix = []\n",
    "lista_acc_score = []\n",
    "lista_precision_score = []\n",
    "lista_recall_score = []\n",
    "lista_f1_score = []\n",
    " \n",
    "for train_index , test_index in kf.split(X):\n",
    "    X_train , X_test = X_[train_index],X_[test_index]\n",
    "    y_train , y_test = y[train_index],y[test_index]\n",
    "     \n",
    "    model.fit(X_train,y_train)\n",
    "    pred_values = model.predict(X_test)\n",
    "     \n",
    "    #print(confusion_matrix(y_test, pred_values))\n",
    "    conf_matrix = confusion_matrix(y_test, pred_values)\n",
    "    lista_conf_matrix.append(conf_matrix)\n",
    "    \n",
    "    acc = accuracy_score(pred_values, y_test)    \n",
    "    lista_acc_score.append(acc)\n",
    "\n",
    "    prec = precision_score(pred_values, y_test, average = 'weighted', labels=np.unique(y_test))\n",
    "    lista_precision_score.append(prec)\n",
    "    \n",
    "    recall = recall_score(pred_values, y_test, average = 'weighted')\n",
    "    lista_recall_score.append(recall)\n",
    "    \n",
    "    f1 = f1_score(pred_values, y_test, average = 'weighted')     \n",
    "    lista_f1_score.append(f1)\n",
    "    \n",
    "media_conf_matrix = np.mean(lista_conf_matrix, axis=0)\n",
    "media_acc_score = sum(lista_acc_score)/k\n",
    "media_prec_score = sum(lista_precision_score)/k\n",
    "media_recall_score = sum(lista_recall_score)/k\n",
    "media_f1_score = sum(lista_f1_score)/k\n",
    "\n",
    "print('Matriz de confusão:')\n",
    "print(media_conf_matrix)\n",
    "#print('Acurácia de cada iteração : {}'.format(acc_score))\n",
    "print('Acurácia média: {}'.format(media_acc_score))\n",
    "print('Precisão média: {}'.format(media_prec_score))\n",
    "print('Recall médio  : {}'.format(media_recall_score))\n",
    "print('F1 médio      : {}'.format(media_f1_score))     "
   ]
  },
  {
   "cell_type": "markdown",
   "id": "119d8f72-c812-4b0f-81c0-a8691bd196cc",
   "metadata": {},
   "source": [
    "# Testes com dataset COVID19BR - Regressão Logística"
   ]
  },
  {
   "cell_type": "code",
   "execution_count": 12,
   "id": "2e5aadae-cebc-4a98-946e-083ad1b6ade6",
   "metadata": {},
   "outputs": [
    {
     "name": "stdout",
     "output_type": "stream",
     "text": [
      "Matriz de confusão:\n",
      "[[646.2  73.8]\n",
      " [ 30.2 689.8]]\n",
      "Acurácia média: 0.9277777777777778\n",
      "Precisão média: 0.9345354677146049\n",
      "Recall médio  : 0.9277777777777778\n",
      "F1 médio      : 0.9191487606323298\n"
     ]
    }
   ],
   "source": [
    "X_ = tfidf_vectorizer_vectors\n",
    "\n",
    "#Implementando a validação cruzada\n",
    " \n",
    "k = 5\n",
    "kf = KFold(n_splits=k, random_state=None)\n",
    "model = LogisticRegression(solver= 'liblinear')\n",
    " \n",
    "#lista das matrizes de confusão de cada iteração \n",
    "lista_conf_matrix = []\n",
    "lista_acc_score = []\n",
    "lista_precision_score = []\n",
    "lista_recall_score = []\n",
    "lista_f1_score = []\n",
    " \n",
    "for train_index , test_index in kf.split(X):\n",
    "    X_train , X_test = X_[train_index],X_[test_index]\n",
    "    y_train , y_test = y[train_index],y[test_index]\n",
    "     \n",
    "    model.fit(X_train,y_train)\n",
    "    pred_values = model.predict(X_test)\n",
    "     \n",
    "    #print(confusion_matrix(y_test, pred_values))\n",
    "    conf_matrix = confusion_matrix(y_test, pred_values)\n",
    "    lista_conf_matrix.append(conf_matrix)\n",
    "    \n",
    "    acc = accuracy_score(pred_values, y_test)    \n",
    "    lista_acc_score.append(acc)\n",
    "\n",
    "    prec = precision_score(pred_values, y_test, average = 'weighted', labels=np.unique(y_test))\n",
    "    lista_precision_score.append(prec)\n",
    "    \n",
    "    recall = recall_score(pred_values, y_test, average = 'weighted')\n",
    "    lista_recall_score.append(recall)\n",
    "    \n",
    "    f1 = f1_score(pred_values, y_test, average = 'weighted')     \n",
    "    lista_f1_score.append(f1)\n",
    "    \n",
    "media_conf_matrix = np.mean(lista_conf_matrix, axis=0)\n",
    "media_acc_score = sum(lista_acc_score)/k\n",
    "media_prec_score = sum(lista_precision_score)/k\n",
    "media_recall_score = sum(lista_recall_score)/k\n",
    "media_f1_score = sum(lista_f1_score)/k\n",
    "\n",
    "print('Matriz de confusão:')\n",
    "print(media_conf_matrix)\n",
    "#print('Acurácia de cada iteração : {}'.format(acc_score))\n",
    "print('Acurácia média: {}'.format(media_acc_score))\n",
    "print('Precisão média: {}'.format(media_prec_score))\n",
    "print('Recall médio  : {}'.format(media_recall_score))\n",
    "print('F1 médio      : {}'.format(media_f1_score))     "
   ]
  },
  {
   "cell_type": "markdown",
   "id": "5d0fd1eb-55be-4092-92b3-9cfcd2506b07",
   "metadata": {},
   "source": [
    "# Testes com dataset COVID19BR - GradientBoostingClassifier"
   ]
  },
  {
   "cell_type": "code",
   "execution_count": 13,
   "id": "6fac81b0-05c1-4dba-9d9a-bff27caf77e6",
   "metadata": {
    "tags": []
   },
   "outputs": [
    {
     "name": "stdout",
     "output_type": "stream",
     "text": [
      "Matriz de confusão:\n",
      "[[663.4  56.6]\n",
      " [ 32.  688. ]]\n",
      "Acurácia média: 0.9384722222222223\n",
      "Precisão média: 0.943059165546192\n",
      "Recall médio  : 0.9384722222222223\n",
      "F1 médio      : 0.9336701904821535\n"
     ]
    }
   ],
   "source": [
    "X_ = tfidf_vectorizer_vectors\n",
    "\n",
    "#Implementando a validação cruzada\n",
    " \n",
    "k = 5\n",
    "kf = KFold(n_splits=k, random_state=None)\n",
    "model = GradientBoostingClassifier()\n",
    "\n",
    "#lista das matrizes de confusão de cada iteração \n",
    "lista_conf_matrix = []\n",
    "lista_acc_score = []\n",
    "lista_precision_score = []\n",
    "lista_recall_score = []\n",
    "lista_f1_score = []\n",
    " \n",
    "for train_index , test_index in kf.split(X):\n",
    "    X_train , X_test = X_[train_index],X_[test_index]\n",
    "    y_train , y_test = y[train_index],y[test_index]\n",
    "     \n",
    "    model.fit(X_train,y_train)\n",
    "    pred_values = model.predict(X_test)\n",
    "     \n",
    "    #print(confusion_matrix(y_test, pred_values))\n",
    "    conf_matrix = confusion_matrix(y_test, pred_values)\n",
    "    lista_conf_matrix.append(conf_matrix)\n",
    "    \n",
    "    acc = accuracy_score(pred_values, y_test)    \n",
    "    lista_acc_score.append(acc)\n",
    "\n",
    "    prec = precision_score(pred_values, y_test, average = 'weighted', labels=np.unique(y_test))\n",
    "    lista_precision_score.append(prec)\n",
    "    \n",
    "    recall = recall_score(pred_values, y_test, average = 'weighted')\n",
    "    lista_recall_score.append(recall)\n",
    "    \n",
    "    f1 = f1_score(pred_values, y_test, average = 'weighted')     \n",
    "    lista_f1_score.append(f1)\n",
    "    \n",
    "media_conf_matrix = np.mean(lista_conf_matrix, axis=0)\n",
    "media_acc_score = sum(lista_acc_score)/k\n",
    "media_prec_score = sum(lista_precision_score)/k\n",
    "media_recall_score = sum(lista_recall_score)/k\n",
    "media_f1_score = sum(lista_f1_score)/k\n",
    "\n",
    "print('Matriz de confusão:')\n",
    "print(media_conf_matrix)\n",
    "#print('Acurácia de cada iteração : {}'.format(acc_score))\n",
    "print('Acurácia média: {}'.format(media_acc_score))\n",
    "print('Precisão média: {}'.format(media_prec_score))\n",
    "print('Recall médio  : {}'.format(media_recall_score))\n",
    "print('F1 médio      : {}'.format(media_f1_score))     "
   ]
  },
  {
   "cell_type": "markdown",
   "id": "9ca15901-96c3-4574-b250-1d6a22acb333",
   "metadata": {},
   "source": [
    "# Testes com dataset COVID19BR - Árvore de decisão"
   ]
  },
  {
   "cell_type": "code",
   "execution_count": 14,
   "id": "76439fa1-93c4-405f-b8c5-dceed0a064fb",
   "metadata": {
    "tags": []
   },
   "outputs": [
    {
     "name": "stdout",
     "output_type": "stream",
     "text": [
      "Matriz de confusão:\n",
      "[[625.4  94.6]\n",
      " [ 83.2 636.8]]\n",
      "Acurácia média: 0.8765277777777778\n",
      "Precisão média: 0.8797176980440481\n",
      "Recall médio  : 0.8765277777777778\n",
      "F1 médio      : 0.8617099875428643\n"
     ]
    }
   ],
   "source": [
    "X_ = tfidf_vectorizer_vectors\n",
    "\n",
    "#Implementando a validação cruzada\n",
    " \n",
    "k = 5\n",
    "kf = KFold(n_splits=k, random_state=None)\n",
    "model = tree.DecisionTreeClassifier()\n",
    "\n",
    "#lista das matrizes de confusão de cada iteração \n",
    "lista_conf_matrix = []\n",
    "lista_acc_score = []\n",
    "lista_precision_score = []\n",
    "lista_recall_score = []\n",
    "lista_f1_score = []\n",
    " \n",
    "for train_index , test_index in kf.split(X):\n",
    "    X_train , X_test = X_[train_index],X_[test_index]\n",
    "    y_train , y_test = y[train_index],y[test_index]\n",
    "     \n",
    "    model.fit(X_train,y_train)\n",
    "    pred_values = model.predict(X_test)\n",
    "     \n",
    "    #print(confusion_matrix(y_test, pred_values))\n",
    "    conf_matrix = confusion_matrix(y_test, pred_values)\n",
    "    lista_conf_matrix.append(conf_matrix)\n",
    "    \n",
    "    acc = accuracy_score(pred_values, y_test)    \n",
    "    lista_acc_score.append(acc)\n",
    "\n",
    "    prec = precision_score(pred_values, y_test, average = 'weighted', labels=np.unique(y_test))\n",
    "    lista_precision_score.append(prec)\n",
    "    \n",
    "    recall = recall_score(pred_values, y_test, average = 'weighted')\n",
    "    lista_recall_score.append(recall)\n",
    "    \n",
    "    f1 = f1_score(pred_values, y_test, average = 'weighted')     \n",
    "    lista_f1_score.append(f1)\n",
    "    \n",
    "media_conf_matrix = np.mean(lista_conf_matrix, axis=0)\n",
    "media_acc_score = sum(lista_acc_score)/k\n",
    "media_prec_score = sum(lista_precision_score)/k\n",
    "media_recall_score = sum(lista_recall_score)/k\n",
    "media_f1_score = sum(lista_f1_score)/k\n",
    "\n",
    "print('Matriz de confusão:')\n",
    "print(media_conf_matrix)\n",
    "#print('Acurácia de cada iteração : {}'.format(acc_score))\n",
    "print('Acurácia média: {}'.format(media_acc_score))\n",
    "print('Precisão média: {}'.format(media_prec_score))\n",
    "print('Recall médio  : {}'.format(media_recall_score))\n",
    "print('F1 médio      : {}'.format(media_f1_score))     "
   ]
  },
  {
   "cell_type": "markdown",
   "id": "9ae6cbbb-09df-4948-af20-102d01f59c5b",
   "metadata": {},
   "source": [
    "# Testes com o dataset COVID19BR - Rede Neural MLP"
   ]
  },
  {
   "cell_type": "code",
   "execution_count": 15,
   "id": "54ca54d2-3841-4598-814c-3ebea62e71e8",
   "metadata": {
    "tags": []
   },
   "outputs": [
    {
     "name": "stdout",
     "output_type": "stream",
     "text": [
      "Matriz de confusão:\n",
      "[[682.8  37.2]\n",
      " [ 40.6 679.4]]\n",
      "Acurácia média: 0.9459722222222222\n",
      "Precisão média: 0.9476804394099986\n",
      "Recall médio  : 0.9459722222222222\n",
      "F1 médio      : 0.9394268605419811\n"
     ]
    }
   ],
   "source": [
    "X_ = tfidf_vectorizer_vectors\n",
    "\n",
    "#Implementando a validação cruzada\n",
    " \n",
    "k = 5\n",
    "kf = KFold(n_splits=k, random_state=None)\n",
    "model = MLPClassifier()\n",
    "\n",
    "#lista das matrizes de confusão de cada iteração \n",
    "lista_conf_matrix = []\n",
    "lista_acc_score = []\n",
    "lista_precision_score = []\n",
    "lista_recall_score = []\n",
    "lista_f1_score = []\n",
    " \n",
    "for train_index , test_index in kf.split(X):\n",
    "    X_train , X_test = X_[train_index],X_[test_index]\n",
    "    y_train , y_test = y[train_index],y[test_index]\n",
    "     \n",
    "    model.fit(X_train,y_train)\n",
    "    pred_values = model.predict(X_test)\n",
    "     \n",
    "    #print(confusion_matrix(y_test, pred_values))\n",
    "    conf_matrix = confusion_matrix(y_test, pred_values)\n",
    "    lista_conf_matrix.append(conf_matrix)\n",
    "    \n",
    "    acc = accuracy_score(pred_values, y_test)    \n",
    "    lista_acc_score.append(acc)\n",
    "\n",
    "    prec = precision_score(pred_values, y_test, average = 'weighted', labels=np.unique(y_test))\n",
    "    lista_precision_score.append(prec)\n",
    "    \n",
    "    recall = recall_score(pred_values, y_test, average = 'weighted')\n",
    "    lista_recall_score.append(recall)\n",
    "    \n",
    "    f1 = f1_score(pred_values, y_test, average = 'weighted')     \n",
    "    lista_f1_score.append(f1)\n",
    "    \n",
    "media_conf_matrix = np.mean(lista_conf_matrix, axis=0)\n",
    "media_acc_score = sum(lista_acc_score)/k\n",
    "media_prec_score = sum(lista_precision_score)/k\n",
    "media_recall_score = sum(lista_recall_score)/k\n",
    "media_f1_score = sum(lista_f1_score)/k\n",
    "\n",
    "print('Matriz de confusão:')\n",
    "print(media_conf_matrix)\n",
    "#print('Acurácia de cada iteração : {}'.format(acc_score))\n",
    "print('Acurácia média: {}'.format(media_acc_score))\n",
    "print('Precisão média: {}'.format(media_prec_score))\n",
    "print('Recall médio  : {}'.format(media_recall_score))\n",
    "print('F1 médio      : {}'.format(media_f1_score))     "
   ]
  }
 ],
 "metadata": {
  "kernelspec": {
   "display_name": "Python 3 (ipykernel)",
   "language": "python",
   "name": "python3"
  },
  "language_info": {
   "codemirror_mode": {
    "name": "ipython",
    "version": 3
   },
   "file_extension": ".py",
   "mimetype": "text/x-python",
   "name": "python",
   "nbconvert_exporter": "python",
   "pygments_lexer": "ipython3",
   "version": "3.9.7"
  }
 },
 "nbformat": 4,
 "nbformat_minor": 5
}
