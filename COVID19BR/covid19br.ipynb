{
 "cells": [
  {
   "cell_type": "code",
   "execution_count": 17,
   "metadata": {},
   "outputs": [],
   "source": [
    "import pandas as pd\n",
    "import nltk\n",
    "import re\n",
    "from nltk.corpus import stopwords\n",
    "import matplotlib.pyplot as plt\n",
    "from sklearn.feature_extraction.text import CountVectorizer, TfidfTransformer\n",
    "from sklearn.metrics import classification_report,confusion_matrix\n",
    "from sklearn.metrics import accuracy_score, f1_score, precision_score, recall_score\n",
    "from sklearn.svm import LinearSVC\n",
    "from sklearn.pipeline import Pipeline\n",
    "from sklearn.linear_model import SGDClassifier, LogisticRegression\n",
    "from sklearn.neural_network import MLPClassifier\n",
    "from joblib import dump, load\n",
    "from sklearn.ensemble import GradientBoostingClassifier\n",
    "from sklearn import tree\n",
    "import numpy as np\n",
    "import itertools"
   ]
  },
  {
   "cell_type": "code",
   "execution_count": 2,
   "metadata": {},
   "outputs": [
    {
     "name": "stderr",
     "output_type": "stream",
     "text": [
      "[nltk_data] Downloading package stopwords to\n",
      "[nltk_data]     C:\\Users\\giova\\AppData\\Roaming\\nltk_data...\n",
      "[nltk_data]   Package stopwords is already up-to-date!\n"
     ]
    },
    {
     "data": {
      "text/plain": [
       "True"
      ]
     },
     "execution_count": 2,
     "metadata": {},
     "output_type": "execute_result"
    }
   ],
   "source": [
    "#nltk.download()\n",
    "nltk.download('stopwords')"
   ]
  },
  {
   "cell_type": "markdown",
   "metadata": {},
   "source": [
    "# Testes com o dataset COVID19BR - Arquivos"
   ]
  },
  {
   "cell_type": "code",
   "execution_count": 2,
   "metadata": {},
   "outputs": [],
   "source": [
    "def plota_matriz_de_confusao(cm,\n",
    "                             target_names,\n",
    "                             title='Confusion matrix',\n",
    "                             cmap=None,\n",
    "                             normalize=True):\n",
    "    \n",
    "    accuracy = np.trace(cm) / float(np.sum(cm))\n",
    "    misclass = 1 - accuracy\n",
    "\n",
    "    if cmap is None:\n",
    "        cmap = plt.get_cmap('Greens')\n",
    "\n",
    "    plt.figure(figsize=(5, 4))\n",
    "    plt.imshow(cm, interpolation='nearest', cmap=cmap)\n",
    "    plt.title(title)\n",
    "    plt.colorbar()\n",
    "\n",
    "    if target_names is not None:\n",
    "        tick_marks = np.arange(len(target_names))\n",
    "        plt.xticks(tick_marks, target_names, rotation=45)\n",
    "        plt.yticks(tick_marks, target_names)\n",
    "\n",
    "    if normalize:\n",
    "        cm = cm.astype('float') / cm.sum(axis=1)[:, np.newaxis]\n",
    "\n",
    "\n",
    "    thresh = cm.max() / 1.5 if normalize else cm.max() / 2\n",
    "    for i, j in itertools.product(range(cm.shape[0]), range(cm.shape[1])):\n",
    "        if normalize:\n",
    "            plt.text(j, i, \"{:0.4f}\".format(cm[i, j]),\n",
    "                     horizontalalignment=\"center\",\n",
    "                     color=\"white\" if cm[i, j] > thresh else \"black\")\n",
    "        else:\n",
    "            plt.text(j, i, \"{:,}\".format(cm[i, j]),\n",
    "                     horizontalalignment=\"center\",\n",
    "                     color=\"white\" if cm[i, j] > thresh else \"black\")\n",
    "\n",
    "\n",
    "    plt.tight_layout()\n",
    "    plt.ylabel('Real')\n",
    "    plt.xlabel('Predito')\n",
    "    plt.show()"
   ]
  },
  {
   "cell_type": "markdown",
   "metadata": {},
   "source": [
    "## Documentação do método para apresentar, via gráfico, a matriz de confusão:    \n",
    "### def plota_matriz_de_confusao(cm, target_names, title='Confusion matrix', cmap=None, normalize=True)\n",
    "    \n",
    "    Dada uma matriz de confusão (cm), mostra um gráfico:\n",
    "\n",
    "    Arguments\n",
    "    ---------\n",
    "    cm:           matriz de confusão do sklearn.metrics.confusion_matrix\n",
    "\n",
    "    target_names: dadas as classes tais [0,1,2], os nomes das classes[alto, médio, baixo]\n",
    "    \n",
    "    title:        título do gráfico\n",
    "\n",
    "    cmap:         o gradiente dos valores exibidos como em matplotlib.pyplot.cm\n",
    "                  see http://matplotlib.org/examples/color/colormaps_reference.html\n",
    "                  plt.get_cmap('jet') or plt.cm.Blues\n",
    "\n",
    "    normalize:    Se falso, imprime números inteiros\n",
    "                  Se verdadeiro, imprime as proporções\n",
    "\n",
    "    Exemplo de utilização:\n",
    "    -----\n",
    "    plota_matriz_de_confusao(cm           = cm,                  # Matriz de confusão criada\n",
    "                                                                 # sklearn.metrics.confusion_matrix\n",
    "                             normalize    = True,                # mostra proporções ou frações\n",
    "                             target_names = y_labels_vals,       # lista dos nomes das classes\n",
    "                             title        = nome do estimador)   # Título do gráfico\n",
    "\n",
    "    Citação\n",
    "    ---------\n",
    "    http://scikit-learn.org/stable/auto_examples/model_selection/plot_confusion_matrix.html"
   ]
  },
  {
   "cell_type": "code",
   "execution_count": 3,
   "metadata": {},
   "outputs": [],
   "source": [
    "stop_por = set(stopwords.words(\"portuguese\"))\n",
    "def limpa_texto(string):\n",
    "    text = string.lower().split()\n",
    "    text = \" \".join(text)\n",
    "    text = re.sub(r\"http(\\S)+\",' ',text)    \n",
    "    text = re.sub(r\"www(\\S)+\",' ',text)\n",
    "    text = re.sub(r\"&\",' and ',text)  \n",
    "    tx   = text.replace('&amp',' ')\n",
    "    text = re.sub(r\"[^0-9a-zA-Z]+\",' ',text)\n",
    "    text = text.split()\n",
    "    text = [w for w in text if not w in stop_por]\n",
    "    text = \" \".join(text)\n",
    "    return text"
   ]
  },
  {
   "cell_type": "code",
   "execution_count": 4,
   "metadata": {},
   "outputs": [],
   "source": [
    "def imprime_metricas(pred,true):\n",
    "    print(confusion_matrix(true,pred))\n",
    "    print(classification_report(true,pred,))\n",
    "    print(\"Acurácia : \",accuracy_score(pred,true))\n",
    "    print(\"Precisão : \",precision_score(pred,true, average = 'weighted'))\n",
    "    print(\"Recall   : \",recall_score(pred,true,  average = 'weighted'))\n",
    "    print(\"F1       : \",f1_score(pred,true,  average = 'weighted'))"
   ]
  },
  {
   "cell_type": "code",
   "execution_count": 14,
   "metadata": {},
   "outputs": [],
   "source": [
    "#\n",
    "# Testes com o dataset COVID19BR\n",
    "#\n",
    "treino    = pd.read_csv('covidbr_labeled_train.csv')\n",
    "validacao = pd.read_csv('covidbr_labeled_val.csv')\n",
    "arquivo_total = pd.read_csv('covidbr_labeled.csv')"
   ]
  },
  {
   "cell_type": "markdown",
   "metadata": {
    "tags": []
   },
   "source": [
    "# Testes com dataset COVID19BR"
   ]
  },
  {
   "cell_type": "code",
   "execution_count": 15,
   "metadata": {},
   "outputs": [],
   "source": [
    "treino['text'] = treino['text'].map(lambda x: limpa_texto(x))\n",
    "\"\"\"\n",
    "A linha 848 deste arquivo de treino estava vazia, \n",
    "ocasionando o  erro abaixo:\n",
    "AttributeError: 'float' object has no attribute 'lower'\n",
    "# como foi descoberta a linha com problema:\n",
    "contador = 0\n",
    "for i in treino['text']:\n",
    "    contador = contador + 1\n",
    "    limpa_texto(i)\n",
    "print(contador)\n",
    "\"\"\"\n",
    "validacao['text'] = validacao['text'].map(lambda x: limpa_texto(x))    \n",
    "arquivo_total['text'] = arquivo_total['text'].map(lambda x: limpa_texto(x))"
   ]
  },
  {
   "cell_type": "markdown",
   "metadata": {},
   "source": [
    "# Testes com dataset COVID19BR - LinearSVC"
   ]
  },
  {
   "cell_type": "code",
   "execution_count": 7,
   "metadata": {},
   "outputs": [
    {
     "name": "stdout",
     "output_type": "stream",
     "text": [
      "SVM\n",
      "valores:\n",
      "[[547  61]\n",
      " [ 87 175]]\n",
      "              precision    recall  f1-score   support\n",
      "\n",
      "           0       0.86      0.90      0.88       608\n",
      "           1       0.74      0.67      0.70       262\n",
      "\n",
      "    accuracy                           0.83       870\n",
      "   macro avg       0.80      0.78      0.79       870\n",
      "weighted avg       0.83      0.83      0.83       870\n",
      "\n",
      "Acurácia :  0.8298850574712644\n",
      "Precisão :  0.8368103852352651\n",
      "Recall   :  0.8298850574712644\n",
      "F1       :  0.8325452177971703\n"
     ]
    },
    {
     "data": {
      "image/png": "[encoded data removed]",
      "text/plain": [
       "<Figure size 360x288 with 2 Axes>"
      ]
     },
     "metadata": {
      "needs_background": "light"
     },
     "output_type": "display_data"
    }
   ],
   "source": [
    "pipeline = Pipeline([\n",
    "        ('bow', CountVectorizer()),  \n",
    "        ('tfidf', TfidfTransformer()),  \n",
    "        ('c', LinearSVC())\n",
    "    ])\n",
    "fit = pipeline.fit(treino['text'],treino['misinformation'])\n",
    "print('SVM')\n",
    "print ('valores:')\n",
    "pred=pipeline.predict(validacao['text'])\n",
    "imprime_metricas(pred,validacao['misinformation'])\n",
    "plota_matriz_de_confusao(confusion_matrix(validacao['misinformation'],pred),\n",
    "                         target_names=['Falso','Verdadeiro'], \n",
    "                         normalize = False, \n",
    "                         title = 'Matriz de confusão SVM: COVID19BR')\n",
    "\n",
    "val_ori = pd.read_csv('covidbr_labeled_val.csv')\n",
    "svm_val_misclass_df = val_ori[pred!=validacao['text']]"
   ]
  },
  {
   "cell_type": "markdown",
   "metadata": {},
   "source": [
    "# Testes com o dataset COVID19BR - Logistic Regression"
   ]
  },
  {
   "cell_type": "code",
   "execution_count": 8,
   "metadata": {},
   "outputs": [
    {
     "name": "stdout",
     "output_type": "stream",
     "text": [
      "Logistic Regression\n",
      "val:\n",
      "[[578  30]\n",
      " [131 131]]\n",
      "              precision    recall  f1-score   support\n",
      "\n",
      "           0       0.82      0.95      0.88       608\n",
      "           1       0.81      0.50      0.62       262\n",
      "\n",
      "    accuracy                           0.81       870\n",
      "   macro avg       0.81      0.73      0.75       870\n",
      "weighted avg       0.81      0.81      0.80       870\n",
      "\n",
      "Acurácia :  0.8149425287356322\n",
      "Precisão :  0.8672602843315185\n",
      "Recall   :  0.8149425287356322\n",
      "F1       :  0.8299397009304305\n"
     ]
    },
    {
     "data": {
      "image/png": "[encoded data removed]",
      "text/plain": [
       "<Figure size 360x288 with 2 Axes>"
      ]
     },
     "metadata": {
      "needs_background": "light"
     },
     "output_type": "display_data"
    }
   ],
   "source": [
    "pipeline = Pipeline([\n",
    "        ('bow', CountVectorizer()),  \n",
    "        ('tfidf', TfidfTransformer()),  \n",
    "        ('c', LogisticRegression())\n",
    "    ])\n",
    "fit = pipeline.fit(treino['text'],treino['misinformation'])\n",
    "print('Logistic Regression')\n",
    "print ('val:')\n",
    "pred=pipeline.predict(validacao['text'])\n",
    "imprime_metricas(pred,validacao['misinformation'])\n",
    "plota_matriz_de_confusao(confusion_matrix(validacao['misinformation'],pred),\n",
    "                         target_names=['Falso','Verdadeiro'], \n",
    "                         normalize = False,\n",
    "                         title = 'Matriz de confusão Regressão Logística: COVID19BR')"
   ]
  },
  {
   "cell_type": "markdown",
   "metadata": {
    "tags": []
   },
   "source": [
    "# Testes com o dataset COVID19BR - GradientBoostingClassifier"
   ]
  },
  {
   "cell_type": "code",
   "execution_count": 9,
   "metadata": {},
   "outputs": [
    {
     "name": "stdout",
     "output_type": "stream",
     "text": [
      "Gradient Boost\n",
      "val:\n",
      "[[566  42]\n",
      " [121 141]]\n",
      "              precision    recall  f1-score   support\n",
      "\n",
      "           0       0.82      0.93      0.87       608\n",
      "           1       0.77      0.54      0.63       262\n",
      "\n",
      "    accuracy                           0.81       870\n",
      "   macro avg       0.80      0.73      0.75       870\n",
      "weighted avg       0.81      0.81      0.80       870\n",
      "\n",
      "Acurácia :  0.8126436781609195\n",
      "Precisão :  0.8483074666463475\n",
      "Recall   :  0.8126436781609195\n",
      "F1       :  0.8235594536253196\n"
     ]
    },
    {
     "data": {
      "image/png": "[encoded data removed]",
      "text/plain": [
       "<Figure size 360x288 with 2 Axes>"
      ]
     },
     "metadata": {
      "needs_background": "light"
     },
     "output_type": "display_data"
    }
   ],
   "source": [
    "pipeline = Pipeline([\n",
    "        ('bow', CountVectorizer()),  \n",
    "        ('tfidf', TfidfTransformer()),  \n",
    "        ('c', GradientBoostingClassifier())\n",
    "    ])\n",
    "fit = pipeline.fit(treino['text'],treino['misinformation'])\n",
    "print('Gradient Boost')\n",
    "print ('val:')\n",
    "pred=pipeline.predict(validacao['text'])\n",
    "imprime_metricas(pred,validacao['misinformation'])\n",
    "plota_matriz_de_confusao(confusion_matrix(validacao['misinformation'],pred),\n",
    "                         target_names=['Falso','Verdadeiro'], \n",
    "                         normalize = False,\n",
    "                         title = 'Matriz de confusão Gradient Boosting: COVID19BR')"
   ]
  },
  {
   "cell_type": "markdown",
   "metadata": {},
   "source": [
    "# Testes com o dataset COVID19BR - Árvore de decisão"
   ]
  },
  {
   "cell_type": "code",
   "execution_count": 10,
   "metadata": {},
   "outputs": [
    {
     "name": "stdout",
     "output_type": "stream",
     "text": [
      "Decision Tree\n",
      "val:\n",
      "[[498 110]\n",
      " [ 89 173]]\n",
      "              precision    recall  f1-score   support\n",
      "\n",
      "           0       0.85      0.82      0.83       608\n",
      "           1       0.61      0.66      0.63       262\n",
      "\n",
      "    accuracy                           0.77       870\n",
      "   macro avg       0.73      0.74      0.73       870\n",
      "weighted avg       0.78      0.77      0.77       870\n",
      "\n",
      "Acurácia :  0.771264367816092\n",
      "Precisão :  0.7674319015160961\n",
      "Recall   :  0.771264367816092\n",
      "F1       :  0.768867345529569\n"
     ]
    },
    {
     "data": {
      "image/png": "[encoded data removed]",
      "text/plain": [
       "<Figure size 360x288 with 2 Axes>"
      ]
     },
     "metadata": {
      "needs_background": "light"
     },
     "output_type": "display_data"
    }
   ],
   "source": [
    "pipeline = Pipeline([\n",
    "        ('bow', CountVectorizer()),  \n",
    "        ('tfidf', TfidfTransformer()),  \n",
    "        ('c', tree.DecisionTreeClassifier())\n",
    "    ])\n",
    "fit = pipeline.fit(treino['text'],treino['misinformation'])\n",
    "print('Decision Tree')\n",
    "print ('val:')\n",
    "pred=pipeline.predict(validacao['text'])\n",
    "imprime_metricas(pred,validacao['misinformation'])\n",
    "plota_matriz_de_confusao(confusion_matrix(validacao['misinformation'],pred),\n",
    "                         target_names=['Falso','Verdadeiro'], \n",
    "                         normalize = False,\n",
    "                         title = 'Matriz de confusão Árvore de Decisão: COVID19BR')"
   ]
  },
  {
   "cell_type": "markdown",
   "metadata": {},
   "source": [
    "# Testes com o dataset COVID19BR - Rede Neural MLP"
   ]
  },
  {
   "cell_type": "code",
   "execution_count": 11,
   "metadata": {},
   "outputs": [
    {
     "name": "stdout",
     "output_type": "stream",
     "text": [
      "Decision Tree\n",
      "val:\n",
      "[[527  81]\n",
      " [ 84 178]]\n",
      "              precision    recall  f1-score   support\n",
      "\n",
      "           0       0.86      0.87      0.86       608\n",
      "           1       0.69      0.68      0.68       262\n",
      "\n",
      "    accuracy                           0.81       870\n",
      "   macro avg       0.77      0.77      0.77       870\n",
      "weighted avg       0.81      0.81      0.81       870\n",
      "\n",
      "Acurácia :  0.8103448275862069\n",
      "Precisão :  0.8109909896648704\n",
      "Recall   :  0.8103448275862069\n",
      "F1       :  0.8106574858733672\n"
     ]
    },
    {
     "data": {
      "image/png": "[encoded data removed]",
      "text/plain": [
       "<Figure size 360x288 with 2 Axes>"
      ]
     },
     "metadata": {
      "needs_background": "light"
     },
     "output_type": "display_data"
    }
   ],
   "source": [
    "pipeline = Pipeline([\n",
    "        ('bow', CountVectorizer()),  \n",
    "        ('tfidf', TfidfTransformer()),  \n",
    "        ('c', MLPClassifier())\n",
    "    ])\n",
    "fit = pipeline.fit(treino['text'],treino['misinformation'])\n",
    "print('Decision Tree')\n",
    "print ('val:')\n",
    "pred=pipeline.predict(validacao['text'])\n",
    "imprime_metricas(pred,validacao['misinformation'])\n",
    "plota_matriz_de_confusao(confusion_matrix(validacao['misinformation'],pred),\n",
    "                         target_names=['Falso','Verdadeiro'], \n",
    "                         normalize = False,\n",
    "                         title = 'Matriz de confusão Árvore de Decisão: COVID19BR')"
   ]
  },
  {
   "cell_type": "code",
   "execution_count": null,
   "metadata": {},
   "outputs": [],
   "source": [
    "svm_val_misclass_df.info()"
   ]
  },
  {
   "cell_type": "code",
   "execution_count": null,
   "metadata": {},
   "outputs": [],
   "source": [
    "svm_val_misclass_df.to_excel('svm_val_misclassified.xlsx')"
   ]
  },
  {
   "cell_type": "code",
   "execution_count": null,
   "metadata": {},
   "outputs": [],
   "source": [
    "svm_val_misclass_df.to_csv('svm_val_misclassified.csv')"
   ]
  }
 ],
 "metadata": {
  "kernelspec": {
   "display_name": "Python 3 (ipykernel)",
   "language": "python",
   "name": "python3"
  },
  "language_info": {
   "codemirror_mode": {
    "name": "ipython",
    "version": 3
   },
   "file_extension": ".py",
   "mimetype": "text/x-python",
   "name": "python",
   "nbconvert_exporter": "python",
   "pygments_lexer": "ipython3",
   "version": "3.9.7"
  }
 },
 "nbformat": 4,
 "nbformat_minor": 4
}
