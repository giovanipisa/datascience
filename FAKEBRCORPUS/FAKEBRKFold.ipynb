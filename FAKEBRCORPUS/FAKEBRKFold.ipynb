{
 "cells": [
  {
   "cell_type": "code",
   "execution_count": 1,
   "id": "5b0d3461-6a09-4fb8-a827-797a6bcaa0e8",
   "metadata": {},
   "outputs": [
    {
     "name": "stdout",
     "output_type": "stream",
     "text": [
      "accuracy of each fold - [0.9122807017543859, 0.9473684210526315, 0.9736842105263158, 0.9736842105263158, 0.9557522123893806]\n",
      "Avg accuracy : 0.952553951249806\n"
     ]
    }
   ],
   "source": [
    "# https://www.askpython.com/python/examples/k-fold-cross-validation\n",
    "# K-fold Cross Validation using scikit learn\n",
    "#Importing required libraries\n",
    "from sklearn.datasets import load_breast_cancer\n",
    "import pandas as pd\n",
    "from sklearn.model_selection import KFold \n",
    "from sklearn.linear_model import LogisticRegression\n",
    "from sklearn.metrics import accuracy_score\n",
    " \n",
    "#Loading the dataset\n",
    "data = load_breast_cancer(as_frame = True)\n",
    "df = data.frame\n",
    "X = df.iloc[:,:-1]\n",
    "y = df.iloc[:,-1]\n",
    " \n",
    "#Implementing cross validation\n",
    " \n",
    "k = 5\n",
    "kf = KFold(n_splits=k, random_state=None)\n",
    "model = LogisticRegression(solver= 'liblinear')\n",
    " \n",
    "acc_score = []\n",
    " \n",
    "for train_index , test_index in kf.split(X):\n",
    "    X_train , X_test = X.iloc[train_index,:],X.iloc[test_index,:]\n",
    "    y_train , y_test = y[train_index] , y[test_index]\n",
    "     \n",
    "    model.fit(X_train,y_train)\n",
    "    pred_values = model.predict(X_test)\n",
    "     \n",
    "    acc = accuracy_score(pred_values , y_test)\n",
    "    acc_score.append(acc)\n",
    "     \n",
    "avg_acc_score = sum(acc_score)/k\n",
    " \n",
    "print('accuracy of each fold - {}'.format(acc_score))\n",
    "print('Avg accuracy : {}'.format(avg_acc_score))"
   ]
  },
  {
   "cell_type": "markdown",
   "id": "651e67dd-5d8f-46d6-aef1-f8479a63ffb9",
   "metadata": {},
   "source": [
    "### **************************************************************"
   ]
  },
  {
   "cell_type": "code",
   "execution_count": 1,
   "id": "ee3de0c3-ab87-47ec-909d-c24313d0683a",
   "metadata": {},
   "outputs": [],
   "source": [
    "import pandas as pd\n",
    "import nltk\n",
    "import re\n",
    "from nltk.corpus import stopwords\n",
    "from sklearn.feature_extraction import text\n",
    "from sklearn.feature_extraction.text import CountVectorizer, TfidfTransformer, TfidfVectorizer \n",
    "from sklearn.metrics import classification_report,confusion_matrix\n",
    "from sklearn.metrics import accuracy_score, f1_score, precision_score, recall_score\n",
    "from sklearn.svm import LinearSVC\n",
    "from sklearn.pipeline import Pipeline\n",
    "from sklearn.model_selection import KFold \n",
    "from sklearn.linear_model import LogisticRegression"
   ]
  },
  {
   "cell_type": "code",
   "execution_count": 2,
   "id": "3cd76b93-1161-4270-a256-e95df4ca6922",
   "metadata": {},
   "outputs": [
    {
     "name": "stderr",
     "output_type": "stream",
     "text": [
      "[nltk_data] Downloading package stopwords to\n",
      "[nltk_data]     C:\\Users\\giova\\AppData\\Roaming\\nltk_data...\n",
      "[nltk_data]   Package stopwords is already up-to-date!\n"
     ]
    },
    {
     "data": {
      "text/plain": [
       "True"
      ]
     },
     "execution_count": 2,
     "metadata": {},
     "output_type": "execute_result"
    }
   ],
   "source": [
    "nltk.download('stopwords')"
   ]
  },
  {
   "cell_type": "code",
   "execution_count": 3,
   "id": "78f18d8d-ea17-4ef9-9ebb-d45cb1e15473",
   "metadata": {},
   "outputs": [],
   "source": [
    "#Carregando o dataset FAKEBR\n",
    "\n",
    "dados = pd.read_csv('dataset_shuffle.csv')\n",
    "#dados.head()\n",
    "X = dados['text']\n",
    "y = dados['fake_news']"
   ]
  },
  {
   "cell_type": "code",
   "execution_count": 4,
   "id": "9c15e169-74af-4279-88a5-b9aa3495b9e8",
   "metadata": {},
   "outputs": [],
   "source": [
    "stop_por = set(stopwords.words(\"portuguese\"))\n",
    "def limpa_texto(string):\n",
    "    text = string.lower().split()\n",
    "    text = \" \".join(text)\n",
    "    text = re.sub(r\"http(\\S)+\",' ',text)    \n",
    "    text = re.sub(r\"www(\\S)+\",' ',text)\n",
    "    text = re.sub(r\"&\",' and ',text)  \n",
    "    tx   = text.replace('&amp',' ')\n",
    "    text = re.sub(r\"[^0-9a-zA-Z]+\",' ',text)\n",
    "    text = text.split()\n",
    "    text = [w for w in text if not w in stop_por]\n",
    "    text = \" \".join(text)\n",
    "    return text"
   ]
  },
  {
   "cell_type": "code",
   "execution_count": 5,
   "id": "300f217d-4080-4447-b412-20793913ba10",
   "metadata": {},
   "outputs": [],
   "source": [
    "X = X.map(lambda x: limpa_texto(x))"
   ]
  },
  {
   "cell_type": "code",
   "execution_count": 6,
   "id": "c36da616-c381-4cc6-87cc-da964ff7b77f",
   "metadata": {},
   "outputs": [],
   "source": [
    "#Pode ser resumido nisto: \n",
    "tfidf_vectorizer=TfidfVectorizer(use_idf=True)\n",
    "# just send in all your docs here\n",
    "fitted_vectorizer=tfidf_vectorizer.fit(X)\n",
    "tfidf_vectorizer_vectors=fitted_vectorizer.transform(X)"
   ]
  },
  {
   "cell_type": "code",
   "execution_count": 7,
   "id": "2e5aadae-cebc-4a98-946e-083ad1b6ade6",
   "metadata": {},
   "outputs": [
    {
     "name": "stdout",
     "output_type": "stream",
     "text": [
      "accuracy of each fold - [0.9466666666666667, 0.9504166666666667, 0.9158333333333334]\n",
      "Avg accuracy : 0.9376388888888889\n"
     ]
    }
   ],
   "source": [
    "X_ = tfidf_vectorizer_vectors\n",
    "\n",
    "#Implementando a validação cruzada\n",
    " \n",
    "k = 3\n",
    "kf = KFold(n_splits=k, random_state=None)\n",
    "model = LogisticRegression(solver= 'liblinear')\n",
    " \n",
    "acc_score = []\n",
    " \n",
    "for train_index , test_index in kf.split(X):\n",
    "    X_train , X_test = X_[train_index],X_[test_index]\n",
    "    y_train , y_test = y[train_index],y[test_index]\n",
    "     \n",
    "    model.fit(X_train,y_train)\n",
    "    pred_values = model.predict(X_test)\n",
    "     \n",
    "    acc = accuracy_score(pred_values , y_test)\n",
    "    acc_score.append(acc)\n",
    "     \n",
    "avg_acc_score = sum(acc_score)/k\n",
    " \n",
    "print('accuracy of each fold - {}'.format(acc_score))\n",
    "print('Avg accuracy : {}'.format(avg_acc_score))"
   ]
  }
 ],
 "metadata": {
  "kernelspec": {
   "display_name": "Python 3 (ipykernel)",
   "language": "python",
   "name": "python3"
  },
  "language_info": {
   "codemirror_mode": {
    "name": "ipython",
    "version": 3
   },
   "file_extension": ".py",
   "mimetype": "text/x-python",
   "name": "python",
   "nbconvert_exporter": "python",
   "pygments_lexer": "ipython3",
   "version": "3.9.7"
  }
 },
 "nbformat": 4,
 "nbformat_minor": 5
}
