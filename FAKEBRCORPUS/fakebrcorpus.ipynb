{
 "cells": [
  {
   "cell_type": "code",
   "execution_count": 1,
   "metadata": {},
   "outputs": [],
   "source": [
    "import pandas as pd\n",
    "import nltk\n",
    "import re\n",
    "from nltk.corpus import stopwords\n",
    "import matplotlib.pyplot as plt\n",
    "from sklearn.feature_extraction.text import CountVectorizer, TfidfTransformer\n",
    "from sklearn.metrics import classification_report,confusion_matrix\n",
    "from sklearn.metrics import accuracy_score, f1_score, precision_score, recall_score\n",
    "from sklearn.svm import LinearSVC\n",
    "from sklearn.pipeline import Pipeline\n",
    "from sklearn.linear_model import SGDClassifier, LogisticRegression\n",
    "from sklearn.neural_network import MLPClassifier\n",
    "from joblib import dump, load\n",
    "from sklearn.ensemble import GradientBoostingClassifier\n",
    "from sklearn import tree\n",
    "import numpy as np\n",
    "import itertools"
   ]
  },
  {
   "cell_type": "code",
   "execution_count": 2,
   "metadata": {},
   "outputs": [
    {
     "name": "stderr",
     "output_type": "stream",
     "text": [
      "[nltk_data] Downloading package stopwords to\n",
      "[nltk_data]     C:\\Users\\giova\\AppData\\Roaming\\nltk_data...\n",
      "[nltk_data]   Package stopwords is already up-to-date!\n"
     ]
    },
    {
     "data": {
      "text/plain": [
       "True"
      ]
     },
     "execution_count": 2,
     "metadata": {},
     "output_type": "execute_result"
    }
   ],
   "source": [
    "#nltk.download()\n",
    "nltk.download('stopwords')"
   ]
  },
  {
   "cell_type": "markdown",
   "metadata": {},
   "source": [
    "# Testes com o dataset FakeBRCorpus - Arquivos"
   ]
  },
  {
   "cell_type": "code",
   "execution_count": 3,
   "metadata": {},
   "outputs": [],
   "source": [
    "def plota_matriz_de_confusao(cm,\n",
    "                             target_names,\n",
    "                             title='Confusion matrix',\n",
    "                             cmap=None,\n",
    "                             normalize=True):\n",
    "    \n",
    "    accuracy = np.trace(cm) / float(np.sum(cm))\n",
    "    misclass = 1 - accuracy\n",
    "\n",
    "    if cmap is None:\n",
    "        cmap = plt.get_cmap('YlOrBr')\n",
    "\n",
    "    plt.figure(figsize=(5, 4))\n",
    "    plt.imshow(cm, interpolation='nearest', cmap=cmap)\n",
    "    plt.title(title)\n",
    "    plt.colorbar()\n",
    "\n",
    "    if target_names is not None:\n",
    "        tick_marks = np.arange(len(target_names))\n",
    "        plt.xticks(tick_marks, target_names, rotation=45)\n",
    "        plt.yticks(tick_marks, target_names)\n",
    "\n",
    "    if normalize:\n",
    "        cm = cm.astype('float') / cm.sum(axis=1)[:, np.newaxis]\n",
    "\n",
    "\n",
    "    thresh = cm.max() / 1.5 if normalize else cm.max() / 2\n",
    "    for i, j in itertools.product(range(cm.shape[0]), range(cm.shape[1])):\n",
    "        if normalize:\n",
    "            plt.text(j, i, \"{:0.4f}\".format(cm[i, j]),\n",
    "                     horizontalalignment=\"center\",\n",
    "                     color=\"white\" if cm[i, j] > thresh else \"black\")\n",
    "        else:\n",
    "            plt.text(j, i, \"{:,}\".format(cm[i, j]),\n",
    "                     horizontalalignment=\"center\",\n",
    "                     color=\"white\" if cm[i, j] > thresh else \"black\")\n",
    "\n",
    "    plt.tight_layout()\n",
    "    plt.ylabel('Real')\n",
    "    plt.xlabel('Predito')\n",
    "    plt.show()"
   ]
  },
  {
   "cell_type": "markdown",
   "metadata": {},
   "source": [
    "## Documentação do método para apresentar, via gráfico, a matriz de confusão:    \n",
    "### def plota_matriz_de_confusao(cm, target_names, title='Confusion matrix', cmap=None, normalize=True)\n",
    "    \n",
    "    Dada uma matriz de confusão (cm), mostra um gráfico:\n",
    "\n",
    "    Arguments\n",
    "    ---------\n",
    "    cm:           matriz de confusão do sklearn.metrics.confusion_matrix\n",
    "\n",
    "    target_names: dadas as classes tais [0,1,2], os nomes das classes[alto, médio, baixo]\n",
    "    \n",
    "    title:        título do gráfico\n",
    "\n",
    "    cmap:         o gradiente dos valores exibidos como em matplotlib.pyplot.cm\n",
    "                  see http://matplotlib.org/examples/color/colormaps_reference.html\n",
    "                  plt.get_cmap('jet') or plt.cm.Blues\n",
    "\n",
    "    normalize:    Se falso, imprime números inteiros\n",
    "                  Se verdadeiro, imprime as proporções\n",
    "\n",
    "    Exemplo de utilização:\n",
    "    -----\n",
    "    plota_matriz_de_confusao(cm           = cm,                  # Matriz de confusão criada\n",
    "                                                                 # sklearn.metrics.confusion_matrix\n",
    "                             normalize    = True,                # mostra proporções ou frações\n",
    "                             target_names = y_labels_vals,       # lista dos nomes das classes\n",
    "                             title        = nome do estimador)   # Título do gráfico\n",
    "\n",
    "    Citação\n",
    "    ---------\n",
    "    http://scikit-learn.org/stable/auto_examples/model_selection/plot_confusion_matrix.html"
   ]
  },
  {
   "cell_type": "code",
   "execution_count": 4,
   "metadata": {},
   "outputs": [],
   "source": [
    "stop_por = set(stopwords.words(\"portuguese\"))\n",
    "def limpa_texto(string):\n",
    "    text = string.lower().split()\n",
    "    text = \" \".join(text)\n",
    "    text = re.sub(r\"http(\\S)+\",' ',text)    \n",
    "    text = re.sub(r\"www(\\S)+\",' ',text)\n",
    "    text = re.sub(r\"&\",' and ',text)  \n",
    "    tx   = text.replace('&amp',' ')\n",
    "    text = re.sub(r\"[^0-9a-zA-Z]+\",' ',text)\n",
    "    text = text.split()\n",
    "    text = [w for w in text if not w in stop_por]\n",
    "    text = \" \".join(text)\n",
    "    return text"
   ]
  },
  {
   "cell_type": "code",
   "execution_count": 5,
   "metadata": {},
   "outputs": [],
   "source": [
    "def imprime_metricas(pred,true):\n",
    "    print(confusion_matrix(true,pred))\n",
    "    print(classification_report(true,pred,))\n",
    "    print(\"Acurácia : \",accuracy_score(pred,true))\n",
    "    print(\"Precisão : \",precision_score(pred,true, average = 'weighted'))\n",
    "    print(\"Recall   : \",recall_score(pred,true,  average = 'weighted'))\n",
    "    print(\"F1       : \",f1_score(pred,true,  average = 'weighted'))"
   ]
  },
  {
   "cell_type": "code",
   "execution_count": 6,
   "metadata": {},
   "outputs": [],
   "source": [
    "#\n",
    "# Testes com o dataset FAKEBRCORPUS\n",
    "#\n",
    "# Testes com os arquivos com mensagens maiores de 200 caracteres\n",
    "#\n",
    "#treino    = pd.read_csv('dataset_200_palavras_shuffle_train.csv')\n",
    "#validacao = pd.read_csv('dataset_200_palavras_shuffle_val.csv')\n",
    "#treino    = pd.read_csv('dataset_100_palavras_shuffle_train.csv')\n",
    "#validacao = pd.read_csv('dataset_100_palavras_shuffle_val.csv')\n",
    "treino    = pd.read_csv('dataset_shuffle_train.csv')\n",
    "validacao = pd.read_csv('dataset_shuffle_val.csv')"
   ]
  },
  {
   "cell_type": "code",
   "execution_count": 7,
   "metadata": {},
   "outputs": [],
   "source": [
    "treino['text'] = treino['text'].map(lambda x: limpa_texto(x))\n",
    "validacao['text'] = validacao['text'].map(lambda x: limpa_texto(x))    "
   ]
  },
  {
   "cell_type": "markdown",
   "metadata": {},
   "source": [
    "# Testes com meu dataset FakeBRCorpus - LinearSVC"
   ]
  },
  {
   "cell_type": "code",
   "execution_count": 49,
   "metadata": {},
   "outputs": [
    {
     "name": "stdout",
     "output_type": "stream",
     "text": [
      "SVM\n",
      "val:\n",
      "[[1000   81]\n",
      " [  96  985]]\n",
      "              precision    recall  f1-score   support\n",
      "\n",
      "           0       0.91      0.93      0.92      1081\n",
      "           1       0.92      0.91      0.92      1081\n",
      "\n",
      "    accuracy                           0.92      2162\n",
      "   macro avg       0.92      0.92      0.92      2162\n",
      "weighted avg       0.92      0.92      0.92      2162\n",
      "\n",
      "Acurácia :  0.9181313598519889\n",
      "Precisão :  0.9182276321047853\n",
      "Recall   :  0.9181313598519889\n",
      "F1       :  0.918135300880905\n"
     ]
    },
    {
     "data": {
      "image/png": "[encoded data removed]",
      "text/plain": [
       "<Figure size 360x288 with 2 Axes>"
      ]
     },
     "metadata": {
      "needs_background": "light"
     },
     "output_type": "display_data"
    }
   ],
   "source": [
    "pipeline = Pipeline([\n",
    "        ('bow', CountVectorizer()),  \n",
    "        ('tfidf', TfidfTransformer()),  \n",
    "        ('c', LinearSVC())\n",
    "    ])\n",
    "fit = pipeline.fit(treino['text'],treino['fake_news'])\n",
    "print('SVM')\n",
    "print ('val:')\n",
    "pred=pipeline.predict(validacao['text'])\n",
    "imprime_metricas(pred,validacao['fake_news'])\n",
    "plota_matriz_de_confusao(confusion_matrix(validacao['fake_news'],pred),\n",
    "                         target_names=['Falso','Verdadeiro'], \n",
    "                         normalize = False, \n",
    "                         title = 'Matriz de confusão SVM: FakeBRCorpus')\n",
    "\n",
    "#val_ori = pd.read_csv('dataset_200_palavras_shuffle_val.csv')\n",
    "#svm_val_misclass_df = val_ori[pred!=validacao['text']]"
   ]
  },
  {
   "cell_type": "markdown",
   "metadata": {},
   "source": [
    "# Testes com o dataset FakeBRCorpus - Logistic Regression"
   ]
  },
  {
   "cell_type": "code",
   "execution_count": 50,
   "metadata": {},
   "outputs": [
    {
     "name": "stdout",
     "output_type": "stream",
     "text": [
      "Logistic Regression\n",
      "val:\n",
      "[[977 104]\n",
      " [103 978]]\n",
      "              precision    recall  f1-score   support\n",
      "\n",
      "           0       0.90      0.90      0.90      1081\n",
      "           1       0.90      0.90      0.90      1081\n",
      "\n",
      "    accuracy                           0.90      2162\n",
      "   macro avg       0.90      0.90      0.90      2162\n",
      "weighted avg       0.90      0.90      0.90      2162\n",
      "\n",
      "Acurácia :  0.9042553191489362\n",
      "Precisão :  0.9042557470256153\n",
      "Recall   :  0.9042553191489362\n",
      "F1       :  0.9042553396323986\n"
     ]
    },
    {
     "data": {
      "image/png": "[encoded data removed]",
      "text/plain": [
       "<Figure size 360x288 with 2 Axes>"
      ]
     },
     "metadata": {
      "needs_background": "light"
     },
     "output_type": "display_data"
    }
   ],
   "source": [
    "pipeline = Pipeline([\n",
    "        ('bow', CountVectorizer()),  \n",
    "        ('tfidf', TfidfTransformer()),  \n",
    "        ('c', LogisticRegression())\n",
    "    ])\n",
    "fit = pipeline.fit(treino['text'],treino['fake_news'])\n",
    "print('Logistic Regression')\n",
    "print ('val:')\n",
    "pred=pipeline.predict(validacao['text'])\n",
    "imprime_metricas(pred,validacao['fake_news'])\n",
    "plota_matriz_de_confusao(confusion_matrix(validacao['fake_news'],pred),\n",
    "                         target_names=['Falso','Verdadeiro'], \n",
    "                         normalize = False,\n",
    "                         title = 'Matriz de confusão Regressão Logística: FakeBRCorpus')"
   ]
  },
  {
   "cell_type": "markdown",
   "metadata": {
    "tags": []
   },
   "source": [
    "# Testes com o dataset FakeBRCorpus - GradientBoostingClassifier"
   ]
  },
  {
   "cell_type": "code",
   "execution_count": 51,
   "metadata": {},
   "outputs": [
    {
     "name": "stdout",
     "output_type": "stream",
     "text": [
      "Gradient Boost\n",
      "val:\n",
      "[[1016   65]\n",
      " [ 114  967]]\n",
      "              precision    recall  f1-score   support\n",
      "\n",
      "           0       0.90      0.94      0.92      1081\n",
      "           1       0.94      0.89      0.92      1081\n",
      "\n",
      "    accuracy                           0.92      2162\n",
      "   macro avg       0.92      0.92      0.92      2162\n",
      "weighted avg       0.92      0.92      0.92      2162\n",
      "\n",
      "Acurácia :  0.9172062904717854\n",
      "Precisão :  0.9182336223782926\n",
      "Recall   :  0.9172062904717854\n",
      "F1       :  0.9172488406380853\n"
     ]
    },
    {
     "data": {
      "image/png": "[encoded data removed]",
      "text/plain": [
       "<Figure size 360x288 with 2 Axes>"
      ]
     },
     "metadata": {
      "needs_background": "light"
     },
     "output_type": "display_data"
    }
   ],
   "source": [
    "pipeline = Pipeline([\n",
    "        ('bow', CountVectorizer()),  \n",
    "        ('tfidf', TfidfTransformer()),  \n",
    "        ('c', GradientBoostingClassifier())\n",
    "    ])\n",
    "fit = pipeline.fit(treino['text'],treino['fake_news'])\n",
    "print('Gradient Boost')\n",
    "print ('val:')\n",
    "pred=pipeline.predict(validacao['text'])\n",
    "imprime_metricas(pred,validacao['fake_news'])\n",
    "plota_matriz_de_confusao(confusion_matrix(validacao['fake_news'],pred),\n",
    "                         target_names=['fake','real'], \n",
    "                         normalize = False,\n",
    "                         title = 'Matriz de confusão Gradient Boosting: FakeBRCorpus')"
   ]
  },
  {
   "cell_type": "markdown",
   "metadata": {},
   "source": [
    "# Testes com o dataset FakeBRCorpus - Árvore de decisão"
   ]
  },
  {
   "cell_type": "code",
   "execution_count": 52,
   "metadata": {},
   "outputs": [
    {
     "name": "stdout",
     "output_type": "stream",
     "text": [
      "Decision Tree\n",
      "val:\n",
      "[[968 113]\n",
      " [213 868]]\n",
      "              precision    recall  f1-score   support\n",
      "\n",
      "           0       0.82      0.90      0.86      1081\n",
      "           1       0.88      0.80      0.84      1081\n",
      "\n",
      "    accuracy                           0.85      2162\n",
      "   macro avg       0.85      0.85      0.85      2162\n",
      "weighted avg       0.85      0.85      0.85      2162\n",
      "\n",
      "Acurácia :  0.849213691026827\n",
      "Precisão :  0.8534924578177776\n",
      "Recall   :  0.849213691026827\n",
      "F1       :  0.8495369723752582\n"
     ]
    },
    {
     "data": {
      "image/png": "[encoded data removed]",
      "text/plain": [
       "<Figure size 360x288 with 2 Axes>"
      ]
     },
     "metadata": {
      "needs_background": "light"
     },
     "output_type": "display_data"
    }
   ],
   "source": [
    "#minor variations in finla results due to randomness\n",
    "pipeline = Pipeline([\n",
    "        ('bow', CountVectorizer()),  \n",
    "        ('tfidf', TfidfTransformer()),  \n",
    "        ('c', tree.DecisionTreeClassifier())\n",
    "    ])\n",
    "fit = pipeline.fit(treino['text'],treino['fake_news'])\n",
    "print('Decision Tree')\n",
    "print ('val:')\n",
    "pred=pipeline.predict(validacao['text'])\n",
    "imprime_metricas(pred,validacao['fake_news'])\n",
    "plota_matriz_de_confusao(confusion_matrix(validacao['fake_news'],pred),\n",
    "                         target_names=['Falso','Verdadeiro'], \n",
    "                         normalize = False,\n",
    "                         title = 'Matriz de confusão Árvore de decisão: FakeBRCorpus')"
   ]
  },
  {
   "cell_type": "markdown",
   "metadata": {},
   "source": [
    "# Testes com o dataset FakeBRCorpus - Rede Neural MLP"
   ]
  },
  {
   "cell_type": "code",
   "execution_count": 53,
   "metadata": {},
   "outputs": [
    {
     "name": "stdout",
     "output_type": "stream",
     "text": [
      "Decision Tree\n",
      "val:\n",
      "[[1029   52]\n",
      " [ 137  944]]\n",
      "              precision    recall  f1-score   support\n",
      "\n",
      "           0       0.88      0.95      0.92      1081\n",
      "           1       0.95      0.87      0.91      1081\n",
      "\n",
      "    accuracy                           0.91      2162\n",
      "   macro avg       0.92      0.91      0.91      2162\n",
      "weighted avg       0.92      0.91      0.91      2162\n",
      "\n",
      "Acurácia :  0.9125809435707678\n",
      "Precisão :  0.9156723525772296\n",
      "Recall   :  0.9125809435707678\n",
      "F1       :  0.9127162767851175\n"
     ]
    },
    {
     "data": {
      "image/png": "[encoded data removed]",
      "text/plain": [
       "<Figure size 360x288 with 2 Axes>"
      ]
     },
     "metadata": {
      "needs_background": "light"
     },
     "output_type": "display_data"
    }
   ],
   "source": [
    "#minor variations in finla results due to randomness\n",
    "pipeline = Pipeline([\n",
    "        ('bow', CountVectorizer()),  \n",
    "        ('tfidf', TfidfTransformer()),  \n",
    "        ('c', MLPClassifier())\n",
    "    ])\n",
    "fit = pipeline.fit(treino['text'],treino['fake_news'])\n",
    "print('Decision Tree')\n",
    "print ('val:')\n",
    "pred=pipeline.predict(validacao['text'])\n",
    "imprime_metricas(pred,validacao['fake_news'])\n",
    "plota_matriz_de_confusao(confusion_matrix(validacao['fake_news'],pred),\n",
    "                         target_names=['Falso','Verdadeiro'], \n",
    "                         normalize = False,\n",
    "                         title = 'Matriz de confusão Rede Neural MLP: FakeBRCorpus')"
   ]
  },
  {
   "cell_type": "code",
   "execution_count": null,
   "metadata": {},
   "outputs": [],
   "source": [
    "svm_val_misclass_df.info()"
   ]
  },
  {
   "cell_type": "code",
   "execution_count": null,
   "metadata": {},
   "outputs": [],
   "source": [
    "svm_val_misclass_df.to_excel('svm_val_misclassified.xlsx')"
   ]
  },
  {
   "cell_type": "code",
   "execution_count": null,
   "metadata": {},
   "outputs": [],
   "source": [
    "svm_val_misclass_df.to_csv('svm_val_misclassified.csv')"
   ]
  }
 ],
 "metadata": {
  "kernelspec": {
   "display_name": "Python 3 (ipykernel)",
   "language": "python",
   "name": "python3"
  },
  "language_info": {
   "codemirror_mode": {
    "name": "ipython",
    "version": 3
   },
   "file_extension": ".py",
   "mimetype": "text/x-python",
   "name": "python",
   "nbconvert_exporter": "python",
   "pygments_lexer": "ipython3",
   "version": "3.9.7"
  }
 },
 "nbformat": 4,
 "nbformat_minor": 4
}
